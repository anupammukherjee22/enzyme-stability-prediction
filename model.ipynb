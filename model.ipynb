{
 "cells": [
  {
   "cell_type": "code",
   "execution_count": 1,
   "id": "8fb0a2ca",
   "metadata": {},
   "outputs": [],
   "source": [
    "import pandas as pd\n",
    "import numpy as np\n",
    "import matplotlib.pyplot as plt\n",
    "from Bio.SeqUtils.ProtParam import ProteinAnalysis\n",
    "from sklearn.model_selection import train_test_split\n",
    "from sklearn.linear_model import LinearRegression, Lasso, Ridge, HuberRegressor\n",
    "from sklearn.metrics import mean_absolute_error, mean_squared_error"
   ]
  },
  {
   "cell_type": "code",
   "execution_count": 2,
   "id": "03f84f2c",
   "metadata": {},
   "outputs": [
    {
     "name": "stdout",
     "output_type": "stream",
     "text": [
      "Length of training data:  31390\n"
     ]
    }
   ],
   "source": [
    "data = pd.read_csv('./Data/train.csv')\n",
    "print(\"Length of training data: \", len(data))"
   ]
  },
  {
   "cell_type": "code",
   "execution_count": 3,
   "id": "66f59eb8",
   "metadata": {
    "scrolled": true
   },
   "outputs": [
    {
     "data": {
      "text/html": [
       "<div>\n",
       "<style scoped>\n",
       "    .dataframe tbody tr th:only-of-type {\n",
       "        vertical-align: middle;\n",
       "    }\n",
       "\n",
       "    .dataframe tbody tr th {\n",
       "        vertical-align: top;\n",
       "    }\n",
       "\n",
       "    .dataframe thead th {\n",
       "        text-align: right;\n",
       "    }\n",
       "</style>\n",
       "<table border=\"1\" class=\"dataframe\">\n",
       "  <thead>\n",
       "    <tr style=\"text-align: right;\">\n",
       "      <th></th>\n",
       "      <th>seq_id</th>\n",
       "      <th>protein_sequence</th>\n",
       "      <th>pH</th>\n",
       "      <th>data_source</th>\n",
       "      <th>tm</th>\n",
       "    </tr>\n",
       "  </thead>\n",
       "  <tbody>\n",
       "    <tr>\n",
       "      <th>0</th>\n",
       "      <td>0</td>\n",
       "      <td>AAAAKAAALALLGEAPEVVDIWLPAGWRQPFRVFRLERKGDGVLVG...</td>\n",
       "      <td>7.0</td>\n",
       "      <td>doi.org/10.1038/s41592-020-0801-4</td>\n",
       "      <td>75.7</td>\n",
       "    </tr>\n",
       "    <tr>\n",
       "      <th>1</th>\n",
       "      <td>1</td>\n",
       "      <td>AAADGEPLHNEEERAGAGQVGRSLPQESEEQRTGSRPRRRRDLGSR...</td>\n",
       "      <td>7.0</td>\n",
       "      <td>doi.org/10.1038/s41592-020-0801-4</td>\n",
       "      <td>50.5</td>\n",
       "    </tr>\n",
       "    <tr>\n",
       "      <th>2</th>\n",
       "      <td>2</td>\n",
       "      <td>AAAFSTPRATSYRILSSAGSGSTRADAPQVRRLHTTRDLLAKDYYA...</td>\n",
       "      <td>7.0</td>\n",
       "      <td>doi.org/10.1038/s41592-020-0801-4</td>\n",
       "      <td>40.5</td>\n",
       "    </tr>\n",
       "    <tr>\n",
       "      <th>3</th>\n",
       "      <td>3</td>\n",
       "      <td>AAASGLRTAIPAQPLRHLLQPAPRPCLRPFGLLSVRAGSARRSGLL...</td>\n",
       "      <td>7.0</td>\n",
       "      <td>doi.org/10.1038/s41592-020-0801-4</td>\n",
       "      <td>47.2</td>\n",
       "    </tr>\n",
       "    <tr>\n",
       "      <th>4</th>\n",
       "      <td>4</td>\n",
       "      <td>AAATKSGPRRQSQGASVRTFTPFYFLVEPVDTLSVRGSSVILNCSA...</td>\n",
       "      <td>7.0</td>\n",
       "      <td>doi.org/10.1038/s41592-020-0801-4</td>\n",
       "      <td>49.5</td>\n",
       "    </tr>\n",
       "  </tbody>\n",
       "</table>\n",
       "</div>"
      ],
      "text/plain": [
       "   seq_id                                   protein_sequence   pH  \\\n",
       "0       0  AAAAKAAALALLGEAPEVVDIWLPAGWRQPFRVFRLERKGDGVLVG...  7.0   \n",
       "1       1  AAADGEPLHNEEERAGAGQVGRSLPQESEEQRTGSRPRRRRDLGSR...  7.0   \n",
       "2       2  AAAFSTPRATSYRILSSAGSGSTRADAPQVRRLHTTRDLLAKDYYA...  7.0   \n",
       "3       3  AAASGLRTAIPAQPLRHLLQPAPRPCLRPFGLLSVRAGSARRSGLL...  7.0   \n",
       "4       4  AAATKSGPRRQSQGASVRTFTPFYFLVEPVDTLSVRGSSVILNCSA...  7.0   \n",
       "\n",
       "                         data_source    tm  \n",
       "0  doi.org/10.1038/s41592-020-0801-4  75.7  \n",
       "1  doi.org/10.1038/s41592-020-0801-4  50.5  \n",
       "2  doi.org/10.1038/s41592-020-0801-4  40.5  \n",
       "3  doi.org/10.1038/s41592-020-0801-4  47.2  \n",
       "4  doi.org/10.1038/s41592-020-0801-4  49.5  "
      ]
     },
     "execution_count": 3,
     "metadata": {},
     "output_type": "execute_result"
    }
   ],
   "source": [
    "data.head()"
   ]
  },
  {
   "cell_type": "code",
   "execution_count": 4,
   "id": "192fc6e9",
   "metadata": {},
   "outputs": [],
   "source": [
    "data = data.drop(['data_source'], axis=1)"
   ]
  },
  {
   "cell_type": "code",
   "execution_count": 5,
   "id": "2fdc154f",
   "metadata": {
    "scrolled": true
   },
   "outputs": [
    {
     "data": {
      "text/html": [
       "<div>\n",
       "<style scoped>\n",
       "    .dataframe tbody tr th:only-of-type {\n",
       "        vertical-align: middle;\n",
       "    }\n",
       "\n",
       "    .dataframe tbody tr th {\n",
       "        vertical-align: top;\n",
       "    }\n",
       "\n",
       "    .dataframe thead th {\n",
       "        text-align: right;\n",
       "    }\n",
       "</style>\n",
       "<table border=\"1\" class=\"dataframe\">\n",
       "  <thead>\n",
       "    <tr style=\"text-align: right;\">\n",
       "      <th></th>\n",
       "      <th>count</th>\n",
       "      <th>mean</th>\n",
       "      <th>std</th>\n",
       "      <th>min</th>\n",
       "      <th>25%</th>\n",
       "      <th>50%</th>\n",
       "      <th>75%</th>\n",
       "      <th>max</th>\n",
       "    </tr>\n",
       "  </thead>\n",
       "  <tbody>\n",
       "    <tr>\n",
       "      <th>seq_id</th>\n",
       "      <td>31390.0</td>\n",
       "      <td>15694.500000</td>\n",
       "      <td>9061.656811</td>\n",
       "      <td>0.00</td>\n",
       "      <td>7847.25</td>\n",
       "      <td>15694.5</td>\n",
       "      <td>23541.75</td>\n",
       "      <td>31389.0</td>\n",
       "    </tr>\n",
       "    <tr>\n",
       "      <th>pH</th>\n",
       "      <td>31104.0</td>\n",
       "      <td>6.892339</td>\n",
       "      <td>1.612225</td>\n",
       "      <td>1.99</td>\n",
       "      <td>7.00</td>\n",
       "      <td>7.0</td>\n",
       "      <td>7.00</td>\n",
       "      <td>64.9</td>\n",
       "    </tr>\n",
       "    <tr>\n",
       "      <th>tm</th>\n",
       "      <td>31390.0</td>\n",
       "      <td>49.147337</td>\n",
       "      <td>14.010089</td>\n",
       "      <td>-1.00</td>\n",
       "      <td>42.10</td>\n",
       "      <td>48.0</td>\n",
       "      <td>53.80</td>\n",
       "      <td>130.0</td>\n",
       "    </tr>\n",
       "  </tbody>\n",
       "</table>\n",
       "</div>"
      ],
      "text/plain": [
       "          count          mean          std   min      25%      50%       75%  \\\n",
       "seq_id  31390.0  15694.500000  9061.656811  0.00  7847.25  15694.5  23541.75   \n",
       "pH      31104.0      6.892339     1.612225  1.99     7.00      7.0      7.00   \n",
       "tm      31390.0     49.147337    14.010089 -1.00    42.10     48.0     53.80   \n",
       "\n",
       "            max  \n",
       "seq_id  31389.0  \n",
       "pH         64.9  \n",
       "tm        130.0  "
      ]
     },
     "execution_count": 5,
     "metadata": {},
     "output_type": "execute_result"
    }
   ],
   "source": [
    "data.describe().T"
   ]
  },
  {
   "cell_type": "code",
   "execution_count": 6,
   "id": "9e6ce54b",
   "metadata": {},
   "outputs": [],
   "source": [
    "data = data[data['pH'] <= 14]"
   ]
  },
  {
   "cell_type": "code",
   "execution_count": 7,
   "id": "eaf7b7b9",
   "metadata": {},
   "outputs": [
    {
     "data": {
      "text/html": [
       "<div>\n",
       "<style scoped>\n",
       "    .dataframe tbody tr th:only-of-type {\n",
       "        vertical-align: middle;\n",
       "    }\n",
       "\n",
       "    .dataframe tbody tr th {\n",
       "        vertical-align: top;\n",
       "    }\n",
       "\n",
       "    .dataframe thead th {\n",
       "        text-align: right;\n",
       "    }\n",
       "</style>\n",
       "<table border=\"1\" class=\"dataframe\">\n",
       "  <thead>\n",
       "    <tr style=\"text-align: right;\">\n",
       "      <th></th>\n",
       "      <th>count</th>\n",
       "      <th>mean</th>\n",
       "      <th>std</th>\n",
       "      <th>min</th>\n",
       "      <th>25%</th>\n",
       "      <th>50%</th>\n",
       "      <th>75%</th>\n",
       "      <th>max</th>\n",
       "    </tr>\n",
       "  </thead>\n",
       "  <tbody>\n",
       "    <tr>\n",
       "      <th>seq_id</th>\n",
       "      <td>31075.0</td>\n",
       "      <td>15609.536444</td>\n",
       "      <td>9035.340077</td>\n",
       "      <td>0.00</td>\n",
       "      <td>7798.5</td>\n",
       "      <td>15574.0</td>\n",
       "      <td>23358.5</td>\n",
       "      <td>31389.0</td>\n",
       "    </tr>\n",
       "    <tr>\n",
       "      <th>pH</th>\n",
       "      <td>31075.0</td>\n",
       "      <td>6.850945</td>\n",
       "      <td>0.859904</td>\n",
       "      <td>1.99</td>\n",
       "      <td>7.0</td>\n",
       "      <td>7.0</td>\n",
       "      <td>7.0</td>\n",
       "      <td>11.0</td>\n",
       "    </tr>\n",
       "    <tr>\n",
       "      <th>tm</th>\n",
       "      <td>31075.0</td>\n",
       "      <td>49.191688</td>\n",
       "      <td>13.986443</td>\n",
       "      <td>-1.00</td>\n",
       "      <td>42.1</td>\n",
       "      <td>48.1</td>\n",
       "      <td>53.8</td>\n",
       "      <td>130.0</td>\n",
       "    </tr>\n",
       "  </tbody>\n",
       "</table>\n",
       "</div>"
      ],
      "text/plain": [
       "          count          mean          std   min     25%      50%      75%  \\\n",
       "seq_id  31075.0  15609.536444  9035.340077  0.00  7798.5  15574.0  23358.5   \n",
       "pH      31075.0      6.850945     0.859904  1.99     7.0      7.0      7.0   \n",
       "tm      31075.0     49.191688    13.986443 -1.00    42.1     48.1     53.8   \n",
       "\n",
       "            max  \n",
       "seq_id  31389.0  \n",
       "pH         11.0  \n",
       "tm        130.0  "
      ]
     },
     "execution_count": 7,
     "metadata": {},
     "output_type": "execute_result"
    }
   ],
   "source": [
    "data.describe().T"
   ]
  },
  {
   "cell_type": "code",
   "execution_count": 8,
   "id": "dbecdbe0",
   "metadata": {},
   "outputs": [
    {
     "data": {
      "text/plain": [
       "seq_id              0\n",
       "protein_sequence    0\n",
       "pH                  0\n",
       "tm                  0\n",
       "dtype: int64"
      ]
     },
     "execution_count": 8,
     "metadata": {},
     "output_type": "execute_result"
    }
   ],
   "source": [
    "data.isnull().sum()"
   ]
  },
  {
   "cell_type": "code",
   "execution_count": 9,
   "id": "e1f9f85f",
   "metadata": {},
   "outputs": [
    {
     "data": {
      "text/plain": [
       "(31075, 4)"
      ]
     },
     "execution_count": 9,
     "metadata": {},
     "output_type": "execute_result"
    }
   ],
   "source": [
    "data.shape"
   ]
  },
  {
   "cell_type": "code",
   "execution_count": 10,
   "id": "5ddae4d6",
   "metadata": {},
   "outputs": [],
   "source": [
    "data['pH'] = data['pH'].fillna(data['pH'].mean())"
   ]
  },
  {
   "cell_type": "code",
   "execution_count": 11,
   "id": "39cec83d",
   "metadata": {},
   "outputs": [],
   "source": [
    "amino_acids = {'A', 'R', 'N', 'D', 'E', 'C', 'Q', 'G', 'H', 'I', 'L', 'K', 'M', 'F', 'P', 'S', 'T', 'W', 'Y', 'V'}"
   ]
  },
  {
   "cell_type": "code",
   "execution_count": 12,
   "id": "0a7e71e5",
   "metadata": {},
   "outputs": [],
   "source": [
    "for amino_acid in amino_acids:\n",
    "    data[amino_acid] = data['protein_sequence'].apply(lambda seq: seq.count(amino_acid)/len(seq))"
   ]
  },
  {
   "cell_type": "code",
   "execution_count": 13,
   "id": "ca685146",
   "metadata": {
    "scrolled": true
   },
   "outputs": [
    {
     "data": {
      "text/html": [
       "<div>\n",
       "<style scoped>\n",
       "    .dataframe tbody tr th:only-of-type {\n",
       "        vertical-align: middle;\n",
       "    }\n",
       "\n",
       "    .dataframe tbody tr th {\n",
       "        vertical-align: top;\n",
       "    }\n",
       "\n",
       "    .dataframe thead th {\n",
       "        text-align: right;\n",
       "    }\n",
       "</style>\n",
       "<table border=\"1\" class=\"dataframe\">\n",
       "  <thead>\n",
       "    <tr style=\"text-align: right;\">\n",
       "      <th></th>\n",
       "      <th>seq_id</th>\n",
       "      <th>protein_sequence</th>\n",
       "      <th>pH</th>\n",
       "      <th>tm</th>\n",
       "      <th>Q</th>\n",
       "      <th>I</th>\n",
       "      <th>N</th>\n",
       "      <th>L</th>\n",
       "      <th>A</th>\n",
       "      <th>G</th>\n",
       "      <th>...</th>\n",
       "      <th>P</th>\n",
       "      <th>T</th>\n",
       "      <th>C</th>\n",
       "      <th>H</th>\n",
       "      <th>K</th>\n",
       "      <th>R</th>\n",
       "      <th>D</th>\n",
       "      <th>S</th>\n",
       "      <th>V</th>\n",
       "      <th>M</th>\n",
       "    </tr>\n",
       "  </thead>\n",
       "  <tbody>\n",
       "    <tr>\n",
       "      <th>0</th>\n",
       "      <td>0</td>\n",
       "      <td>AAAAKAAALALLGEAPEVVDIWLPAGWRQPFRVFRLERKGDGVLVG...</td>\n",
       "      <td>7.0</td>\n",
       "      <td>75.7</td>\n",
       "      <td>0.017595</td>\n",
       "      <td>0.041056</td>\n",
       "      <td>0.014663</td>\n",
       "      <td>0.108504</td>\n",
       "      <td>0.131965</td>\n",
       "      <td>0.111437</td>\n",
       "      <td>...</td>\n",
       "      <td>0.052786</td>\n",
       "      <td>0.041056</td>\n",
       "      <td>0.002933</td>\n",
       "      <td>0.008798</td>\n",
       "      <td>0.046921</td>\n",
       "      <td>0.073314</td>\n",
       "      <td>0.038123</td>\n",
       "      <td>0.032258</td>\n",
       "      <td>0.108504</td>\n",
       "      <td>0.023460</td>\n",
       "    </tr>\n",
       "    <tr>\n",
       "      <th>1</th>\n",
       "      <td>1</td>\n",
       "      <td>AAADGEPLHNEEERAGAGQVGRSLPQESEEQRTGSRPRRRRDLGSR...</td>\n",
       "      <td>7.0</td>\n",
       "      <td>50.5</td>\n",
       "      <td>0.076923</td>\n",
       "      <td>0.045455</td>\n",
       "      <td>0.020979</td>\n",
       "      <td>0.080420</td>\n",
       "      <td>0.097902</td>\n",
       "      <td>0.062937</td>\n",
       "      <td>...</td>\n",
       "      <td>0.027972</td>\n",
       "      <td>0.041958</td>\n",
       "      <td>0.000000</td>\n",
       "      <td>0.013986</td>\n",
       "      <td>0.066434</td>\n",
       "      <td>0.104895</td>\n",
       "      <td>0.034965</td>\n",
       "      <td>0.048951</td>\n",
       "      <td>0.045455</td>\n",
       "      <td>0.006993</td>\n",
       "    </tr>\n",
       "    <tr>\n",
       "      <th>2</th>\n",
       "      <td>2</td>\n",
       "      <td>AAAFSTPRATSYRILSSAGSGSTRADAPQVRRLHTTRDLLAKDYYA...</td>\n",
       "      <td>7.0</td>\n",
       "      <td>40.5</td>\n",
       "      <td>0.050302</td>\n",
       "      <td>0.032193</td>\n",
       "      <td>0.030181</td>\n",
       "      <td>0.036217</td>\n",
       "      <td>0.100604</td>\n",
       "      <td>0.130785</td>\n",
       "      <td>...</td>\n",
       "      <td>0.040241</td>\n",
       "      <td>0.060362</td>\n",
       "      <td>0.018109</td>\n",
       "      <td>0.022133</td>\n",
       "      <td>0.078471</td>\n",
       "      <td>0.062374</td>\n",
       "      <td>0.054326</td>\n",
       "      <td>0.066398</td>\n",
       "      <td>0.060362</td>\n",
       "      <td>0.012072</td>\n",
       "    </tr>\n",
       "    <tr>\n",
       "      <th>3</th>\n",
       "      <td>3</td>\n",
       "      <td>AAASGLRTAIPAQPLRHLLQPAPRPCLRPFGLLSVRAGSARRSGLL...</td>\n",
       "      <td>7.0</td>\n",
       "      <td>47.2</td>\n",
       "      <td>0.033962</td>\n",
       "      <td>0.037736</td>\n",
       "      <td>0.033962</td>\n",
       "      <td>0.105660</td>\n",
       "      <td>0.075472</td>\n",
       "      <td>0.060377</td>\n",
       "      <td>...</td>\n",
       "      <td>0.060377</td>\n",
       "      <td>0.071698</td>\n",
       "      <td>0.018868</td>\n",
       "      <td>0.026415</td>\n",
       "      <td>0.064151</td>\n",
       "      <td>0.037736</td>\n",
       "      <td>0.071698</td>\n",
       "      <td>0.060377</td>\n",
       "      <td>0.052830</td>\n",
       "      <td>0.007547</td>\n",
       "    </tr>\n",
       "    <tr>\n",
       "      <th>4</th>\n",
       "      <td>4</td>\n",
       "      <td>AAATKSGPRRQSQGASVRTFTPFYFLVEPVDTLSVRGSSVILNCSA...</td>\n",
       "      <td>7.0</td>\n",
       "      <td>49.5</td>\n",
       "      <td>0.037216</td>\n",
       "      <td>0.048932</td>\n",
       "      <td>0.044797</td>\n",
       "      <td>0.071675</td>\n",
       "      <td>0.059269</td>\n",
       "      <td>0.057891</td>\n",
       "      <td>...</td>\n",
       "      <td>0.088215</td>\n",
       "      <td>0.082702</td>\n",
       "      <td>0.009649</td>\n",
       "      <td>0.027567</td>\n",
       "      <td>0.046864</td>\n",
       "      <td>0.043418</td>\n",
       "      <td>0.053756</td>\n",
       "      <td>0.101999</td>\n",
       "      <td>0.085458</td>\n",
       "      <td>0.021365</td>\n",
       "    </tr>\n",
       "  </tbody>\n",
       "</table>\n",
       "<p>5 rows × 24 columns</p>\n",
       "</div>"
      ],
      "text/plain": [
       "   seq_id                                   protein_sequence   pH    tm  \\\n",
       "0       0  AAAAKAAALALLGEAPEVVDIWLPAGWRQPFRVFRLERKGDGVLVG...  7.0  75.7   \n",
       "1       1  AAADGEPLHNEEERAGAGQVGRSLPQESEEQRTGSRPRRRRDLGSR...  7.0  50.5   \n",
       "2       2  AAAFSTPRATSYRILSSAGSGSTRADAPQVRRLHTTRDLLAKDYYA...  7.0  40.5   \n",
       "3       3  AAASGLRTAIPAQPLRHLLQPAPRPCLRPFGLLSVRAGSARRSGLL...  7.0  47.2   \n",
       "4       4  AAATKSGPRRQSQGASVRTFTPFYFLVEPVDTLSVRGSSVILNCSA...  7.0  49.5   \n",
       "\n",
       "          Q         I         N         L         A         G  ...         P  \\\n",
       "0  0.017595  0.041056  0.014663  0.108504  0.131965  0.111437  ...  0.052786   \n",
       "1  0.076923  0.045455  0.020979  0.080420  0.097902  0.062937  ...  0.027972   \n",
       "2  0.050302  0.032193  0.030181  0.036217  0.100604  0.130785  ...  0.040241   \n",
       "3  0.033962  0.037736  0.033962  0.105660  0.075472  0.060377  ...  0.060377   \n",
       "4  0.037216  0.048932  0.044797  0.071675  0.059269  0.057891  ...  0.088215   \n",
       "\n",
       "          T         C         H         K         R         D         S  \\\n",
       "0  0.041056  0.002933  0.008798  0.046921  0.073314  0.038123  0.032258   \n",
       "1  0.041958  0.000000  0.013986  0.066434  0.104895  0.034965  0.048951   \n",
       "2  0.060362  0.018109  0.022133  0.078471  0.062374  0.054326  0.066398   \n",
       "3  0.071698  0.018868  0.026415  0.064151  0.037736  0.071698  0.060377   \n",
       "4  0.082702  0.009649  0.027567  0.046864  0.043418  0.053756  0.101999   \n",
       "\n",
       "          V         M  \n",
       "0  0.108504  0.023460  \n",
       "1  0.045455  0.006993  \n",
       "2  0.060362  0.012072  \n",
       "3  0.052830  0.007547  \n",
       "4  0.085458  0.021365  \n",
       "\n",
       "[5 rows x 24 columns]"
      ]
     },
     "execution_count": 13,
     "metadata": {},
     "output_type": "execute_result"
    }
   ],
   "source": [
    "data.head()"
   ]
  },
  {
   "cell_type": "code",
   "execution_count": 14,
   "id": "56a8659a",
   "metadata": {},
   "outputs": [
    {
     "data": {
      "text/plain": [
       "Text(0.5, 1.0, 'Ph VS tm')"
      ]
     },
     "execution_count": 14,
     "metadata": {},
     "output_type": "execute_result"
    },
    {
     "data": {
      "image/png": "[encoded data removed]",
      "text/plain": [
       "<Figure size 640x480 with 1 Axes>"
      ]
     },
     "metadata": {},
     "output_type": "display_data"
    }
   ],
   "source": [
    "# Plotting the relation between pH and tm\n",
    "\n",
    "pH = data['pH']\n",
    "tm = data['tm']\n",
    "plt.scatter(pH, tm)\n",
    "plt.xlabel('pH values')\n",
    "plt.ylabel('tm values')\n",
    "plt.title('Ph VS tm')"
   ]
  },
  {
   "cell_type": "code",
   "execution_count": 15,
   "id": "882beaa2",
   "metadata": {},
   "outputs": [],
   "source": [
    "# CALCULATING CHEMICAL PROPERTIES OF PROTEIN SEQUENCES\n",
    "\n",
    "def calcualteAromaticity(row):\n",
    "    seq = str(row[1])\n",
    "    X = ProteinAnalysis(seq)\n",
    "    return X.aromaticity()\n",
    "\n",
    "def calcualteIsoElectricPoint(row):\n",
    "    seq = str(row[1])\n",
    "    X = ProteinAnalysis(seq)\n",
    "    return X.isoelectric_point()\n",
    "\n",
    "def calcualteMolecularWeight(row):\n",
    "    seq = str(row[1])\n",
    "    X = ProteinAnalysis(seq)\n",
    "    return X.molecular_weight()\n",
    "\n",
    "def calcualteChargeAtPh(row):\n",
    "    seq = str(row[1])\n",
    "    ph = row[2]\n",
    "    X = ProteinAnalysis(seq)\n",
    "    return X.charge_at_pH(ph)\n",
    "def calculateGravy(row):\n",
    "    seq = str(row[1])\n",
    "    X = ProteinAnalysis(seq)\n",
    "    return X.gravy()\n",
    "def calculateLength(row):\n",
    "    seq = str(row[1])\n",
    "    return len(seq)"
   ]
  },
  {
   "cell_type": "code",
   "execution_count": 16,
   "id": "5183ba08",
   "metadata": {},
   "outputs": [],
   "source": [
    "data['aromaticity'] = data.apply(calcualteAromaticity, axis=1)\n",
    "data['isoelectric_point'] = data.apply(calcualteIsoElectricPoint, axis=1)\n",
    "data['molecular_weight'] = data.apply(calcualteMolecularWeight, axis=1)\n",
    "data['charge'] = data.apply(calcualteChargeAtPh, axis=1)\n",
    "data['gravy'] = data.apply(calculateGravy, axis=1)\n",
    "data['length'] = data.apply(calculateLength, axis=1)"
   ]
  },
  {
   "cell_type": "code",
   "execution_count": 17,
   "id": "6df7931d",
   "metadata": {},
   "outputs": [
    {
     "data": {
      "text/html": [
       "<div>\n",
       "<style scoped>\n",
       "    .dataframe tbody tr th:only-of-type {\n",
       "        vertical-align: middle;\n",
       "    }\n",
       "\n",
       "    .dataframe tbody tr th {\n",
       "        vertical-align: top;\n",
       "    }\n",
       "\n",
       "    .dataframe thead th {\n",
       "        text-align: right;\n",
       "    }\n",
       "</style>\n",
       "<table border=\"1\" class=\"dataframe\">\n",
       "  <thead>\n",
       "    <tr style=\"text-align: right;\">\n",
       "      <th></th>\n",
       "      <th>seq_id</th>\n",
       "      <th>protein_sequence</th>\n",
       "      <th>pH</th>\n",
       "      <th>tm</th>\n",
       "      <th>Q</th>\n",
       "      <th>I</th>\n",
       "      <th>N</th>\n",
       "      <th>L</th>\n",
       "      <th>A</th>\n",
       "      <th>G</th>\n",
       "      <th>...</th>\n",
       "      <th>D</th>\n",
       "      <th>S</th>\n",
       "      <th>V</th>\n",
       "      <th>M</th>\n",
       "      <th>aromaticity</th>\n",
       "      <th>isoelectric_point</th>\n",
       "      <th>molecular_weight</th>\n",
       "      <th>charge</th>\n",
       "      <th>gravy</th>\n",
       "      <th>length</th>\n",
       "    </tr>\n",
       "  </thead>\n",
       "  <tbody>\n",
       "    <tr>\n",
       "      <th>0</th>\n",
       "      <td>0</td>\n",
       "      <td>AAAAKAAALALLGEAPEVVDIWLPAGWRQPFRVFRLERKGDGVLVG...</td>\n",
       "      <td>7.0</td>\n",
       "      <td>75.7</td>\n",
       "      <td>0.017595</td>\n",
       "      <td>0.041056</td>\n",
       "      <td>0.014663</td>\n",
       "      <td>0.108504</td>\n",
       "      <td>0.131965</td>\n",
       "      <td>0.111437</td>\n",
       "      <td>...</td>\n",
       "      <td>0.038123</td>\n",
       "      <td>0.032258</td>\n",
       "      <td>0.108504</td>\n",
       "      <td>0.023460</td>\n",
       "      <td>0.058651</td>\n",
       "      <td>6.109589</td>\n",
       "      <td>36320.7244</td>\n",
       "      <td>-1.872851</td>\n",
       "      <td>0.148094</td>\n",
       "      <td>341</td>\n",
       "    </tr>\n",
       "    <tr>\n",
       "      <th>1</th>\n",
       "      <td>1</td>\n",
       "      <td>AAADGEPLHNEEERAGAGQVGRSLPQESEEQRTGSRPRRRRDLGSR...</td>\n",
       "      <td>7.0</td>\n",
       "      <td>50.5</td>\n",
       "      <td>0.076923</td>\n",
       "      <td>0.045455</td>\n",
       "      <td>0.020979</td>\n",
       "      <td>0.080420</td>\n",
       "      <td>0.097902</td>\n",
       "      <td>0.062937</td>\n",
       "      <td>...</td>\n",
       "      <td>0.034965</td>\n",
       "      <td>0.048951</td>\n",
       "      <td>0.045455</td>\n",
       "      <td>0.006993</td>\n",
       "      <td>0.041958</td>\n",
       "      <td>5.144349</td>\n",
       "      <td>32837.9931</td>\n",
       "      <td>-12.720355</td>\n",
       "      <td>-1.089510</td>\n",
       "      <td>286</td>\n",
       "    </tr>\n",
       "    <tr>\n",
       "      <th>2</th>\n",
       "      <td>2</td>\n",
       "      <td>AAAFSTPRATSYRILSSAGSGSTRADAPQVRRLHTTRDLLAKDYYA...</td>\n",
       "      <td>7.0</td>\n",
       "      <td>40.5</td>\n",
       "      <td>0.050302</td>\n",
       "      <td>0.032193</td>\n",
       "      <td>0.030181</td>\n",
       "      <td>0.036217</td>\n",
       "      <td>0.100604</td>\n",
       "      <td>0.130785</td>\n",
       "      <td>...</td>\n",
       "      <td>0.054326</td>\n",
       "      <td>0.066398</td>\n",
       "      <td>0.060362</td>\n",
       "      <td>0.012072</td>\n",
       "      <td>0.080483</td>\n",
       "      <td>9.032101</td>\n",
       "      <td>53428.8034</td>\n",
       "      <td>11.730622</td>\n",
       "      <td>-0.710463</td>\n",
       "      <td>497</td>\n",
       "    </tr>\n",
       "    <tr>\n",
       "      <th>3</th>\n",
       "      <td>3</td>\n",
       "      <td>AAASGLRTAIPAQPLRHLLQPAPRPCLRPFGLLSVRAGSARRSGLL...</td>\n",
       "      <td>7.0</td>\n",
       "      <td>47.2</td>\n",
       "      <td>0.033962</td>\n",
       "      <td>0.037736</td>\n",
       "      <td>0.033962</td>\n",
       "      <td>0.105660</td>\n",
       "      <td>0.075472</td>\n",
       "      <td>0.060377</td>\n",
       "      <td>...</td>\n",
       "      <td>0.071698</td>\n",
       "      <td>0.060377</td>\n",
       "      <td>0.052830</td>\n",
       "      <td>0.007547</td>\n",
       "      <td>0.071698</td>\n",
       "      <td>4.683840</td>\n",
       "      <td>29475.5996</td>\n",
       "      <td>-20.561692</td>\n",
       "      <td>-0.507925</td>\n",
       "      <td>265</td>\n",
       "    </tr>\n",
       "    <tr>\n",
       "      <th>4</th>\n",
       "      <td>4</td>\n",
       "      <td>AAATKSGPRRQSQGASVRTFTPFYFLVEPVDTLSVRGSSVILNCSA...</td>\n",
       "      <td>7.0</td>\n",
       "      <td>49.5</td>\n",
       "      <td>0.037216</td>\n",
       "      <td>0.048932</td>\n",
       "      <td>0.044797</td>\n",
       "      <td>0.071675</td>\n",
       "      <td>0.059269</td>\n",
       "      <td>0.057891</td>\n",
       "      <td>...</td>\n",
       "      <td>0.053756</td>\n",
       "      <td>0.101999</td>\n",
       "      <td>0.085458</td>\n",
       "      <td>0.021365</td>\n",
       "      <td>0.065472</td>\n",
       "      <td>5.917928</td>\n",
       "      <td>158761.9814</td>\n",
       "      <td>-21.664651</td>\n",
       "      <td>-0.400896</td>\n",
       "      <td>1451</td>\n",
       "    </tr>\n",
       "  </tbody>\n",
       "</table>\n",
       "<p>5 rows × 30 columns</p>\n",
       "</div>"
      ],
      "text/plain": [
       "   seq_id                                   protein_sequence   pH    tm  \\\n",
       "0       0  AAAAKAAALALLGEAPEVVDIWLPAGWRQPFRVFRLERKGDGVLVG...  7.0  75.7   \n",
       "1       1  AAADGEPLHNEEERAGAGQVGRSLPQESEEQRTGSRPRRRRDLGSR...  7.0  50.5   \n",
       "2       2  AAAFSTPRATSYRILSSAGSGSTRADAPQVRRLHTTRDLLAKDYYA...  7.0  40.5   \n",
       "3       3  AAASGLRTAIPAQPLRHLLQPAPRPCLRPFGLLSVRAGSARRSGLL...  7.0  47.2   \n",
       "4       4  AAATKSGPRRQSQGASVRTFTPFYFLVEPVDTLSVRGSSVILNCSA...  7.0  49.5   \n",
       "\n",
       "          Q         I         N         L         A         G  ...         D  \\\n",
       "0  0.017595  0.041056  0.014663  0.108504  0.131965  0.111437  ...  0.038123   \n",
       "1  0.076923  0.045455  0.020979  0.080420  0.097902  0.062937  ...  0.034965   \n",
       "2  0.050302  0.032193  0.030181  0.036217  0.100604  0.130785  ...  0.054326   \n",
       "3  0.033962  0.037736  0.033962  0.105660  0.075472  0.060377  ...  0.071698   \n",
       "4  0.037216  0.048932  0.044797  0.071675  0.059269  0.057891  ...  0.053756   \n",
       "\n",
       "          S         V         M  aromaticity  isoelectric_point  \\\n",
       "0  0.032258  0.108504  0.023460     0.058651           6.109589   \n",
       "1  0.048951  0.045455  0.006993     0.041958           5.144349   \n",
       "2  0.066398  0.060362  0.012072     0.080483           9.032101   \n",
       "3  0.060377  0.052830  0.007547     0.071698           4.683840   \n",
       "4  0.101999  0.085458  0.021365     0.065472           5.917928   \n",
       "\n",
       "   molecular_weight     charge     gravy  length  \n",
       "0        36320.7244  -1.872851  0.148094     341  \n",
       "1        32837.9931 -12.720355 -1.089510     286  \n",
       "2        53428.8034  11.730622 -0.710463     497  \n",
       "3        29475.5996 -20.561692 -0.507925     265  \n",
       "4       158761.9814 -21.664651 -0.400896    1451  \n",
       "\n",
       "[5 rows x 30 columns]"
      ]
     },
     "execution_count": 17,
     "metadata": {},
     "output_type": "execute_result"
    }
   ],
   "source": [
    "data.head()"
   ]
  },
  {
   "cell_type": "code",
   "execution_count": 18,
   "id": "a8804796",
   "metadata": {},
   "outputs": [],
   "source": [
    "y = data['tm']\n",
    "x = data.drop(['seq_id', 'protein_sequence', 'tm'], axis=1)"
   ]
  },
  {
   "cell_type": "code",
   "execution_count": 19,
   "id": "8493d5d8",
   "metadata": {},
   "outputs": [],
   "source": [
    "# def prepare_testing_data():\n",
    "labels = pd.read_csv('./Data/test_labels.csv')\n",
    "test = pd.read_csv('./Data/test.csv')"
   ]
  },
  {
   "cell_type": "code",
   "execution_count": 20,
   "id": "45c7445b",
   "metadata": {},
   "outputs": [
    {
     "data": {
      "text/html": [
       "<div>\n",
       "<style scoped>\n",
       "    .dataframe tbody tr th:only-of-type {\n",
       "        vertical-align: middle;\n",
       "    }\n",
       "\n",
       "    .dataframe tbody tr th {\n",
       "        vertical-align: top;\n",
       "    }\n",
       "\n",
       "    .dataframe thead th {\n",
       "        text-align: right;\n",
       "    }\n",
       "</style>\n",
       "<table border=\"1\" class=\"dataframe\">\n",
       "  <thead>\n",
       "    <tr style=\"text-align: right;\">\n",
       "      <th></th>\n",
       "      <th>seq_id</th>\n",
       "      <th>tm</th>\n",
       "    </tr>\n",
       "  </thead>\n",
       "  <tbody>\n",
       "    <tr>\n",
       "      <th>0</th>\n",
       "      <td>31390</td>\n",
       "      <td>77.3</td>\n",
       "    </tr>\n",
       "    <tr>\n",
       "      <th>1</th>\n",
       "      <td>31391</td>\n",
       "      <td>77.3</td>\n",
       "    </tr>\n",
       "    <tr>\n",
       "      <th>2</th>\n",
       "      <td>31392</td>\n",
       "      <td>77.3</td>\n",
       "    </tr>\n",
       "    <tr>\n",
       "      <th>3</th>\n",
       "      <td>31393</td>\n",
       "      <td>76.6</td>\n",
       "    </tr>\n",
       "    <tr>\n",
       "      <th>4</th>\n",
       "      <td>31394</td>\n",
       "      <td>77.4</td>\n",
       "    </tr>\n",
       "  </tbody>\n",
       "</table>\n",
       "</div>"
      ],
      "text/plain": [
       "   seq_id    tm\n",
       "0   31390  77.3\n",
       "1   31391  77.3\n",
       "2   31392  77.3\n",
       "3   31393  76.6\n",
       "4   31394  77.4"
      ]
     },
     "execution_count": 20,
     "metadata": {},
     "output_type": "execute_result"
    }
   ],
   "source": [
    "labels.head()"
   ]
  },
  {
   "cell_type": "code",
   "execution_count": 21,
   "id": "d3c3deec",
   "metadata": {},
   "outputs": [
    {
     "data": {
      "text/html": [
       "<div>\n",
       "<style scoped>\n",
       "    .dataframe tbody tr th:only-of-type {\n",
       "        vertical-align: middle;\n",
       "    }\n",
       "\n",
       "    .dataframe tbody tr th {\n",
       "        vertical-align: top;\n",
       "    }\n",
       "\n",
       "    .dataframe thead th {\n",
       "        text-align: right;\n",
       "    }\n",
       "</style>\n",
       "<table border=\"1\" class=\"dataframe\">\n",
       "  <thead>\n",
       "    <tr style=\"text-align: right;\">\n",
       "      <th></th>\n",
       "      <th>seq_id</th>\n",
       "      <th>protein_sequence</th>\n",
       "      <th>pH</th>\n",
       "      <th>data_source</th>\n",
       "    </tr>\n",
       "  </thead>\n",
       "  <tbody>\n",
       "    <tr>\n",
       "      <th>0</th>\n",
       "      <td>31390</td>\n",
       "      <td>VPVNPEPDATSVENVAEKTGSGDSQSDPIKADLEVKGQSALPFDVD...</td>\n",
       "      <td>8</td>\n",
       "      <td>Novozymes</td>\n",
       "    </tr>\n",
       "    <tr>\n",
       "      <th>1</th>\n",
       "      <td>31391</td>\n",
       "      <td>VPVNPEPDATSVENVAKKTGSGDSQSDPIKADLEVKGQSALPFDVD...</td>\n",
       "      <td>8</td>\n",
       "      <td>Novozymes</td>\n",
       "    </tr>\n",
       "    <tr>\n",
       "      <th>2</th>\n",
       "      <td>31392</td>\n",
       "      <td>VPVNPEPDATSVENVAKTGSGDSQSDPIKADLEVKGQSALPFDVDC...</td>\n",
       "      <td>8</td>\n",
       "      <td>Novozymes</td>\n",
       "    </tr>\n",
       "    <tr>\n",
       "      <th>3</th>\n",
       "      <td>31393</td>\n",
       "      <td>VPVNPEPDATSVENVALCTGSGDSQSDPIKADLEVKGQSALPFDVD...</td>\n",
       "      <td>8</td>\n",
       "      <td>Novozymes</td>\n",
       "    </tr>\n",
       "    <tr>\n",
       "      <th>4</th>\n",
       "      <td>31394</td>\n",
       "      <td>VPVNPEPDATSVENVALFTGSGDSQSDPIKADLEVKGQSALPFDVD...</td>\n",
       "      <td>8</td>\n",
       "      <td>Novozymes</td>\n",
       "    </tr>\n",
       "  </tbody>\n",
       "</table>\n",
       "</div>"
      ],
      "text/plain": [
       "   seq_id                                   protein_sequence  pH data_source\n",
       "0   31390  VPVNPEPDATSVENVAEKTGSGDSQSDPIKADLEVKGQSALPFDVD...   8   Novozymes\n",
       "1   31391  VPVNPEPDATSVENVAKKTGSGDSQSDPIKADLEVKGQSALPFDVD...   8   Novozymes\n",
       "2   31392  VPVNPEPDATSVENVAKTGSGDSQSDPIKADLEVKGQSALPFDVDC...   8   Novozymes\n",
       "3   31393  VPVNPEPDATSVENVALCTGSGDSQSDPIKADLEVKGQSALPFDVD...   8   Novozymes\n",
       "4   31394  VPVNPEPDATSVENVALFTGSGDSQSDPIKADLEVKGQSALPFDVD...   8   Novozymes"
      ]
     },
     "execution_count": 21,
     "metadata": {},
     "output_type": "execute_result"
    }
   ],
   "source": [
    "test.head()"
   ]
  },
  {
   "cell_type": "code",
   "execution_count": 22,
   "id": "32535e5d",
   "metadata": {},
   "outputs": [
    {
     "data": {
      "text/html": [
       "<div>\n",
       "<style scoped>\n",
       "    .dataframe tbody tr th:only-of-type {\n",
       "        vertical-align: middle;\n",
       "    }\n",
       "\n",
       "    .dataframe tbody tr th {\n",
       "        vertical-align: top;\n",
       "    }\n",
       "\n",
       "    .dataframe thead th {\n",
       "        text-align: right;\n",
       "    }\n",
       "</style>\n",
       "<table border=\"1\" class=\"dataframe\">\n",
       "  <thead>\n",
       "    <tr style=\"text-align: right;\">\n",
       "      <th></th>\n",
       "      <th>seq_id</th>\n",
       "      <th>protein_sequence</th>\n",
       "      <th>pH</th>\n",
       "      <th>Q</th>\n",
       "      <th>I</th>\n",
       "      <th>N</th>\n",
       "      <th>L</th>\n",
       "      <th>A</th>\n",
       "      <th>G</th>\n",
       "      <th>E</th>\n",
       "      <th>...</th>\n",
       "      <th>D</th>\n",
       "      <th>S</th>\n",
       "      <th>V</th>\n",
       "      <th>M</th>\n",
       "      <th>aromaticity</th>\n",
       "      <th>isoelectric_point</th>\n",
       "      <th>molecular_weight</th>\n",
       "      <th>charge</th>\n",
       "      <th>gravy</th>\n",
       "      <th>length</th>\n",
       "    </tr>\n",
       "  </thead>\n",
       "  <tbody>\n",
       "    <tr>\n",
       "      <th>0</th>\n",
       "      <td>31390</td>\n",
       "      <td>VPVNPEPDATSVENVAEKTGSGDSQSDPIKADLEVKGQSALPFDVD...</td>\n",
       "      <td>8</td>\n",
       "      <td>0.058824</td>\n",
       "      <td>0.027149</td>\n",
       "      <td>0.085973</td>\n",
       "      <td>0.045249</td>\n",
       "      <td>0.099548</td>\n",
       "      <td>0.085973</td>\n",
       "      <td>0.036199</td>\n",
       "      <td>...</td>\n",
       "      <td>0.067873</td>\n",
       "      <td>0.081448</td>\n",
       "      <td>0.058824</td>\n",
       "      <td>0.0</td>\n",
       "      <td>0.099548</td>\n",
       "      <td>8.751535</td>\n",
       "      <td>23910.2619</td>\n",
       "      <td>2.558953</td>\n",
       "      <td>-0.771041</td>\n",
       "      <td>221</td>\n",
       "    </tr>\n",
       "    <tr>\n",
       "      <th>1</th>\n",
       "      <td>31391</td>\n",
       "      <td>VPVNPEPDATSVENVAKKTGSGDSQSDPIKADLEVKGQSALPFDVD...</td>\n",
       "      <td>8</td>\n",
       "      <td>0.058824</td>\n",
       "      <td>0.027149</td>\n",
       "      <td>0.085973</td>\n",
       "      <td>0.045249</td>\n",
       "      <td>0.099548</td>\n",
       "      <td>0.085973</td>\n",
       "      <td>0.031674</td>\n",
       "      <td>...</td>\n",
       "      <td>0.067873</td>\n",
       "      <td>0.081448</td>\n",
       "      <td>0.058824</td>\n",
       "      <td>0.0</td>\n",
       "      <td>0.099548</td>\n",
       "      <td>9.024494</td>\n",
       "      <td>23909.3202</td>\n",
       "      <td>4.548770</td>\n",
       "      <td>-0.772851</td>\n",
       "      <td>221</td>\n",
       "    </tr>\n",
       "    <tr>\n",
       "      <th>2</th>\n",
       "      <td>31392</td>\n",
       "      <td>VPVNPEPDATSVENVAKTGSGDSQSDPIKADLEVKGQSALPFDVDC...</td>\n",
       "      <td>8</td>\n",
       "      <td>0.059091</td>\n",
       "      <td>0.027273</td>\n",
       "      <td>0.086364</td>\n",
       "      <td>0.045455</td>\n",
       "      <td>0.100000</td>\n",
       "      <td>0.086364</td>\n",
       "      <td>0.031818</td>\n",
       "      <td>...</td>\n",
       "      <td>0.068182</td>\n",
       "      <td>0.081818</td>\n",
       "      <td>0.059091</td>\n",
       "      <td>0.0</td>\n",
       "      <td>0.100000</td>\n",
       "      <td>8.907484</td>\n",
       "      <td>23781.1479</td>\n",
       "      <td>3.558671</td>\n",
       "      <td>-0.758636</td>\n",
       "      <td>220</td>\n",
       "    </tr>\n",
       "    <tr>\n",
       "      <th>3</th>\n",
       "      <td>31393</td>\n",
       "      <td>VPVNPEPDATSVENVALCTGSGDSQSDPIKADLEVKGQSALPFDVD...</td>\n",
       "      <td>8</td>\n",
       "      <td>0.058824</td>\n",
       "      <td>0.027149</td>\n",
       "      <td>0.085973</td>\n",
       "      <td>0.049774</td>\n",
       "      <td>0.099548</td>\n",
       "      <td>0.085973</td>\n",
       "      <td>0.031674</td>\n",
       "      <td>...</td>\n",
       "      <td>0.067873</td>\n",
       "      <td>0.081448</td>\n",
       "      <td>0.058824</td>\n",
       "      <td>0.0</td>\n",
       "      <td>0.099548</td>\n",
       "      <td>8.699638</td>\n",
       "      <td>23869.2761</td>\n",
       "      <td>2.477663</td>\n",
       "      <td>-0.709050</td>\n",
       "      <td>221</td>\n",
       "    </tr>\n",
       "    <tr>\n",
       "      <th>4</th>\n",
       "      <td>31394</td>\n",
       "      <td>VPVNPEPDATSVENVALFTGSGDSQSDPIKADLEVKGQSALPFDVD...</td>\n",
       "      <td>8</td>\n",
       "      <td>0.058824</td>\n",
       "      <td>0.027149</td>\n",
       "      <td>0.085973</td>\n",
       "      <td>0.049774</td>\n",
       "      <td>0.099548</td>\n",
       "      <td>0.085973</td>\n",
       "      <td>0.031674</td>\n",
       "      <td>...</td>\n",
       "      <td>0.067873</td>\n",
       "      <td>0.081448</td>\n",
       "      <td>0.058824</td>\n",
       "      <td>0.0</td>\n",
       "      <td>0.104072</td>\n",
       "      <td>8.761012</td>\n",
       "      <td>23913.3070</td>\n",
       "      <td>2.568572</td>\n",
       "      <td>-0.707692</td>\n",
       "      <td>221</td>\n",
       "    </tr>\n",
       "  </tbody>\n",
       "</table>\n",
       "<p>5 rows × 29 columns</p>\n",
       "</div>"
      ],
      "text/plain": [
       "   seq_id                                   protein_sequence  pH         Q  \\\n",
       "0   31390  VPVNPEPDATSVENVAEKTGSGDSQSDPIKADLEVKGQSALPFDVD...   8  0.058824   \n",
       "1   31391  VPVNPEPDATSVENVAKKTGSGDSQSDPIKADLEVKGQSALPFDVD...   8  0.058824   \n",
       "2   31392  VPVNPEPDATSVENVAKTGSGDSQSDPIKADLEVKGQSALPFDVDC...   8  0.059091   \n",
       "3   31393  VPVNPEPDATSVENVALCTGSGDSQSDPIKADLEVKGQSALPFDVD...   8  0.058824   \n",
       "4   31394  VPVNPEPDATSVENVALFTGSGDSQSDPIKADLEVKGQSALPFDVD...   8  0.058824   \n",
       "\n",
       "          I         N         L         A         G         E  ...         D  \\\n",
       "0  0.027149  0.085973  0.045249  0.099548  0.085973  0.036199  ...  0.067873   \n",
       "1  0.027149  0.085973  0.045249  0.099548  0.085973  0.031674  ...  0.067873   \n",
       "2  0.027273  0.086364  0.045455  0.100000  0.086364  0.031818  ...  0.068182   \n",
       "3  0.027149  0.085973  0.049774  0.099548  0.085973  0.031674  ...  0.067873   \n",
       "4  0.027149  0.085973  0.049774  0.099548  0.085973  0.031674  ...  0.067873   \n",
       "\n",
       "          S         V    M  aromaticity  isoelectric_point  molecular_weight  \\\n",
       "0  0.081448  0.058824  0.0     0.099548           8.751535        23910.2619   \n",
       "1  0.081448  0.058824  0.0     0.099548           9.024494        23909.3202   \n",
       "2  0.081818  0.059091  0.0     0.100000           8.907484        23781.1479   \n",
       "3  0.081448  0.058824  0.0     0.099548           8.699638        23869.2761   \n",
       "4  0.081448  0.058824  0.0     0.104072           8.761012        23913.3070   \n",
       "\n",
       "     charge     gravy  length  \n",
       "0  2.558953 -0.771041     221  \n",
       "1  4.548770 -0.772851     221  \n",
       "2  3.558671 -0.758636     220  \n",
       "3  2.477663 -0.709050     221  \n",
       "4  2.568572 -0.707692     221  \n",
       "\n",
       "[5 rows x 29 columns]"
      ]
     },
     "execution_count": 22,
     "metadata": {},
     "output_type": "execute_result"
    }
   ],
   "source": [
    "x_test = test.drop(['data_source'], axis=1)\n",
    "for amino_acid in amino_acids:\n",
    "    x_test[amino_acid] = x_test['protein_sequence'].apply(lambda seq: seq.count(amino_acid)/len(seq))\n",
    "    \n",
    "x_test['aromaticity'] = x_test.apply(calcualteAromaticity, axis=1)\n",
    "x_test['isoelectric_point'] = x_test.apply(calcualteIsoElectricPoint, axis=1)\n",
    "x_test['molecular_weight'] = x_test.apply(calcualteMolecularWeight, axis=1)\n",
    "x_test['charge'] = x_test.apply(calcualteChargeAtPh, axis=1)\n",
    "x_test['gravy'] = x_test.apply(calculateGravy, axis=1)\n",
    "x_test['length'] = x_test.apply(calculateLength, axis=1)\n",
    "x_test.head()"
   ]
  },
  {
   "cell_type": "code",
   "execution_count": 23,
   "id": "73e298b0",
   "metadata": {},
   "outputs": [
    {
     "name": "stdout",
     "output_type": "stream",
     "text": [
      "Length of testing data:  2413\n"
     ]
    }
   ],
   "source": [
    "y_test = labels['tm']\n",
    "x_test = x_test.drop(['seq_id', 'protein_sequence'], axis=1)\n",
    "print(\"Length of testing data: \", len(x_test))"
   ]
  },
  {
   "cell_type": "code",
   "execution_count": 24,
   "id": "e11adbb7",
   "metadata": {},
   "outputs": [
    {
     "name": "stdout",
     "output_type": "stream",
     "text": [
      "Number of features:  27\n"
     ]
    }
   ],
   "source": [
    "print(\"Number of features: \", len(x_test.iloc[0]))"
   ]
  },
  {
   "cell_type": "code",
   "execution_count": 25,
   "id": "ed4a6bc7",
   "metadata": {},
   "outputs": [
    {
     "data": {
      "text/html": [
       "<style>#sk-container-id-1 {color: black;}#sk-container-id-1 pre{padding: 0;}#sk-container-id-1 div.sk-toggleable {background-color: white;}#sk-container-id-1 label.sk-toggleable__label {cursor: pointer;display: block;width: 100%;margin-bottom: 0;padding: 0.3em;box-sizing: border-box;text-align: center;}#sk-container-id-1 label.sk-toggleable__label-arrow:before {content: \"▸\";float: left;margin-right: 0.25em;color: #696969;}#sk-container-id-1 label.sk-toggleable__label-arrow:hover:before {color: black;}#sk-container-id-1 div.sk-estimator:hover label.sk-toggleable__label-arrow:before {color: black;}#sk-container-id-1 div.sk-toggleable__content {max-height: 0;max-width: 0;overflow: hidden;text-align: left;background-color: #f0f8ff;}#sk-container-id-1 div.sk-toggleable__content pre {margin: 0.2em;color: black;border-radius: 0.25em;background-color: #f0f8ff;}#sk-container-id-1 input.sk-toggleable__control:checked~div.sk-toggleable__content {max-height: 200px;max-width: 100%;overflow: auto;}#sk-container-id-1 input.sk-toggleable__control:checked~label.sk-toggleable__label-arrow:before {content: \"▾\";}#sk-container-id-1 div.sk-estimator input.sk-toggleable__control:checked~label.sk-toggleable__label {background-color: #d4ebff;}#sk-container-id-1 div.sk-label input.sk-toggleable__control:checked~label.sk-toggleable__label {background-color: #d4ebff;}#sk-container-id-1 input.sk-hidden--visually {border: 0;clip: rect(1px 1px 1px 1px);clip: rect(1px, 1px, 1px, 1px);height: 1px;margin: -1px;overflow: hidden;padding: 0;position: absolute;width: 1px;}#sk-container-id-1 div.sk-estimator {font-family: monospace;background-color: #f0f8ff;border: 1px dotted black;border-radius: 0.25em;box-sizing: border-box;margin-bottom: 0.5em;}#sk-container-id-1 div.sk-estimator:hover {background-color: #d4ebff;}#sk-container-id-1 div.sk-parallel-item::after {content: \"\";width: 100%;border-bottom: 1px solid gray;flex-grow: 1;}#sk-container-id-1 div.sk-label:hover label.sk-toggleable__label {background-color: #d4ebff;}#sk-container-id-1 div.sk-serial::before {content: \"\";position: absolute;border-left: 1px solid gray;box-sizing: border-box;top: 0;bottom: 0;left: 50%;z-index: 0;}#sk-container-id-1 div.sk-serial {display: flex;flex-direction: column;align-items: center;background-color: white;padding-right: 0.2em;padding-left: 0.2em;position: relative;}#sk-container-id-1 div.sk-item {position: relative;z-index: 1;}#sk-container-id-1 div.sk-parallel {display: flex;align-items: stretch;justify-content: center;background-color: white;position: relative;}#sk-container-id-1 div.sk-item::before, #sk-container-id-1 div.sk-parallel-item::before {content: \"\";position: absolute;border-left: 1px solid gray;box-sizing: border-box;top: 0;bottom: 0;left: 50%;z-index: -1;}#sk-container-id-1 div.sk-parallel-item {display: flex;flex-direction: column;z-index: 1;position: relative;background-color: white;}#sk-container-id-1 div.sk-parallel-item:first-child::after {align-self: flex-end;width: 50%;}#sk-container-id-1 div.sk-parallel-item:last-child::after {align-self: flex-start;width: 50%;}#sk-container-id-1 div.sk-parallel-item:only-child::after {width: 0;}#sk-container-id-1 div.sk-dashed-wrapped {border: 1px dashed gray;margin: 0 0.4em 0.5em 0.4em;box-sizing: border-box;padding-bottom: 0.4em;background-color: white;}#sk-container-id-1 div.sk-label label {font-family: monospace;font-weight: bold;display: inline-block;line-height: 1.2em;}#sk-container-id-1 div.sk-label-container {text-align: center;}#sk-container-id-1 div.sk-container {/* jupyter's `normalize.less` sets `[hidden] { display: none; }` but bootstrap.min.css set `[hidden] { display: none !important; }` so we also need the `!important` here to be able to override the default hidden behavior on the sphinx rendered scikit-learn.org. See: https://github.com/scikit-learn/scikit-learn/issues/21755 */display: inline-block !important;position: relative;}#sk-container-id-1 div.sk-text-repr-fallback {display: none;}</style><div id=\"sk-container-id-1\" class=\"sk-top-container\"><div class=\"sk-text-repr-fallback\"><pre>HuberRegressor(alpha=0.01, epsilon=1.85, max_iter=200, tol=0.0001)</pre><b>In a Jupyter environment, please rerun this cell to show the HTML representation or trust the notebook. <br />On GitHub, the HTML representation is unable to render, please try loading this page with nbviewer.org.</b></div><div class=\"sk-container\" hidden><div class=\"sk-item\"><div class=\"sk-estimator sk-toggleable\"><input class=\"sk-toggleable__control sk-hidden--visually\" id=\"sk-estimator-id-1\" type=\"checkbox\" checked><label for=\"sk-estimator-id-1\" class=\"sk-toggleable__label sk-toggleable__label-arrow\">HuberRegressor</label><div class=\"sk-toggleable__content\"><pre>HuberRegressor(alpha=0.01, epsilon=1.85, max_iter=200, tol=0.0001)</pre></div></div></div></div></div>"
      ],
      "text/plain": [
       "HuberRegressor(alpha=0.01, epsilon=1.85, max_iter=200, tol=0.0001)"
      ]
     },
     "execution_count": 25,
     "metadata": {},
     "output_type": "execute_result"
    }
   ],
   "source": [
    "hr = HuberRegressor(epsilon=1.85, max_iter=200, alpha=0.01, warm_start=False, fit_intercept=True, tol=1e-04)\n",
    "hr.fit(x, y)"
   ]
  },
  {
   "cell_type": "code",
   "execution_count": 26,
   "id": "ce06ec04",
   "metadata": {},
   "outputs": [
    {
     "data": {
      "text/plain": [
       "array([58.16358596, 58.62782245, 58.47108272, 58.01322013, 58.18483772,\n",
       "       58.22534797, 58.19099537, 58.19833055, 58.47586292, 58.27481806])"
      ]
     },
     "execution_count": 26,
     "metadata": {},
     "output_type": "execute_result"
    }
   ],
   "source": [
    "y_pred = hr.predict(x_test)\n",
    "y_pred[:10]"
   ]
  },
  {
   "cell_type": "code",
   "execution_count": 27,
   "id": "2899e00b",
   "metadata": {},
   "outputs": [
    {
     "name": "stdout",
     "output_type": "stream",
     "text": [
      "mae:  14.578411202080854 mse:  245.38231196379283\n"
     ]
    }
   ],
   "source": [
    "mae = mean_absolute_error(y_pred, y_test)\n",
    "mse = mean_squared_error(y_pred, y_test)\n",
    "print(\"mae: \", mae, \"mse: \", mse)"
   ]
  },
  {
   "cell_type": "code",
   "execution_count": 28,
   "id": "46f66b17",
   "metadata": {},
   "outputs": [
    {
     "data": {
      "text/plain": [
       "Text(0.5, 1.0, 'tm VS gravy')"
      ]
     },
     "execution_count": 28,
     "metadata": {},
     "output_type": "execute_result"
    },
    {
     "data": {
      "image/png": "[encoded data removed]",
      "text/plain": [
       "<Figure size 640x480 with 1 Axes>"
      ]
     },
     "metadata": {},
     "output_type": "display_data"
    }
   ],
   "source": [
    "# Plotting the relation between C and tm\n",
    "gravy = data['gravy']\n",
    "plt.scatter(gravy, tm)\n",
    "plt.xlabel('gravy values')\n",
    "plt.ylabel('tm values')\n",
    "plt.title('tm VS gravy')"
   ]
  },
  {
   "cell_type": "code",
   "execution_count": 29,
   "id": "e57b12d5",
   "metadata": {},
   "outputs": [],
   "source": [
    "# GRAVY ---------->"
   ]
  },
  {
   "cell_type": "code",
   "execution_count": 30,
   "id": "21d5a9d3",
   "metadata": {},
   "outputs": [],
   "source": [
    "gravy_val = np.array(data['gravy']).reshape(-1, 1)"
   ]
  },
  {
   "cell_type": "code",
   "execution_count": 31,
   "id": "822a0e88",
   "metadata": {},
   "outputs": [
    {
     "data": {
      "text/html": [
       "<style>#sk-container-id-2 {color: black;}#sk-container-id-2 pre{padding: 0;}#sk-container-id-2 div.sk-toggleable {background-color: white;}#sk-container-id-2 label.sk-toggleable__label {cursor: pointer;display: block;width: 100%;margin-bottom: 0;padding: 0.3em;box-sizing: border-box;text-align: center;}#sk-container-id-2 label.sk-toggleable__label-arrow:before {content: \"▸\";float: left;margin-right: 0.25em;color: #696969;}#sk-container-id-2 label.sk-toggleable__label-arrow:hover:before {color: black;}#sk-container-id-2 div.sk-estimator:hover label.sk-toggleable__label-arrow:before {color: black;}#sk-container-id-2 div.sk-toggleable__content {max-height: 0;max-width: 0;overflow: hidden;text-align: left;background-color: #f0f8ff;}#sk-container-id-2 div.sk-toggleable__content pre {margin: 0.2em;color: black;border-radius: 0.25em;background-color: #f0f8ff;}#sk-container-id-2 input.sk-toggleable__control:checked~div.sk-toggleable__content {max-height: 200px;max-width: 100%;overflow: auto;}#sk-container-id-2 input.sk-toggleable__control:checked~label.sk-toggleable__label-arrow:before {content: \"▾\";}#sk-container-id-2 div.sk-estimator input.sk-toggleable__control:checked~label.sk-toggleable__label {background-color: #d4ebff;}#sk-container-id-2 div.sk-label input.sk-toggleable__control:checked~label.sk-toggleable__label {background-color: #d4ebff;}#sk-container-id-2 input.sk-hidden--visually {border: 0;clip: rect(1px 1px 1px 1px);clip: rect(1px, 1px, 1px, 1px);height: 1px;margin: -1px;overflow: hidden;padding: 0;position: absolute;width: 1px;}#sk-container-id-2 div.sk-estimator {font-family: monospace;background-color: #f0f8ff;border: 1px dotted black;border-radius: 0.25em;box-sizing: border-box;margin-bottom: 0.5em;}#sk-container-id-2 div.sk-estimator:hover {background-color: #d4ebff;}#sk-container-id-2 div.sk-parallel-item::after {content: \"\";width: 100%;border-bottom: 1px solid gray;flex-grow: 1;}#sk-container-id-2 div.sk-label:hover label.sk-toggleable__label {background-color: #d4ebff;}#sk-container-id-2 div.sk-serial::before {content: \"\";position: absolute;border-left: 1px solid gray;box-sizing: border-box;top: 0;bottom: 0;left: 50%;z-index: 0;}#sk-container-id-2 div.sk-serial {display: flex;flex-direction: column;align-items: center;background-color: white;padding-right: 0.2em;padding-left: 0.2em;position: relative;}#sk-container-id-2 div.sk-item {position: relative;z-index: 1;}#sk-container-id-2 div.sk-parallel {display: flex;align-items: stretch;justify-content: center;background-color: white;position: relative;}#sk-container-id-2 div.sk-item::before, #sk-container-id-2 div.sk-parallel-item::before {content: \"\";position: absolute;border-left: 1px solid gray;box-sizing: border-box;top: 0;bottom: 0;left: 50%;z-index: -1;}#sk-container-id-2 div.sk-parallel-item {display: flex;flex-direction: column;z-index: 1;position: relative;background-color: white;}#sk-container-id-2 div.sk-parallel-item:first-child::after {align-self: flex-end;width: 50%;}#sk-container-id-2 div.sk-parallel-item:last-child::after {align-self: flex-start;width: 50%;}#sk-container-id-2 div.sk-parallel-item:only-child::after {width: 0;}#sk-container-id-2 div.sk-dashed-wrapped {border: 1px dashed gray;margin: 0 0.4em 0.5em 0.4em;box-sizing: border-box;padding-bottom: 0.4em;background-color: white;}#sk-container-id-2 div.sk-label label {font-family: monospace;font-weight: bold;display: inline-block;line-height: 1.2em;}#sk-container-id-2 div.sk-label-container {text-align: center;}#sk-container-id-2 div.sk-container {/* jupyter's `normalize.less` sets `[hidden] { display: none; }` but bootstrap.min.css set `[hidden] { display: none !important; }` so we also need the `!important` here to be able to override the default hidden behavior on the sphinx rendered scikit-learn.org. See: https://github.com/scikit-learn/scikit-learn/issues/21755 */display: inline-block !important;position: relative;}#sk-container-id-2 div.sk-text-repr-fallback {display: none;}</style><div id=\"sk-container-id-2\" class=\"sk-top-container\"><div class=\"sk-text-repr-fallback\"><pre>HuberRegressor(alpha=0.01, epsilon=1.85, max_iter=200, tol=0.0001)</pre><b>In a Jupyter environment, please rerun this cell to show the HTML representation or trust the notebook. <br />On GitHub, the HTML representation is unable to render, please try loading this page with nbviewer.org.</b></div><div class=\"sk-container\" hidden><div class=\"sk-item\"><div class=\"sk-estimator sk-toggleable\"><input class=\"sk-toggleable__control sk-hidden--visually\" id=\"sk-estimator-id-2\" type=\"checkbox\" checked><label for=\"sk-estimator-id-2\" class=\"sk-toggleable__label sk-toggleable__label-arrow\">HuberRegressor</label><div class=\"sk-toggleable__content\"><pre>HuberRegressor(alpha=0.01, epsilon=1.85, max_iter=200, tol=0.0001)</pre></div></div></div></div></div>"
      ],
      "text/plain": [
       "HuberRegressor(alpha=0.01, epsilon=1.85, max_iter=200, tol=0.0001)"
      ]
     },
     "execution_count": 31,
     "metadata": {},
     "output_type": "execute_result"
    }
   ],
   "source": [
    "gravy_model = HuberRegressor(epsilon=1.85, max_iter=200, alpha=0.01, warm_start=False, fit_intercept=True, tol=1e-04)\n",
    "gravy_model.fit(gravy_val, y)"
   ]
  },
  {
   "cell_type": "code",
   "execution_count": 32,
   "id": "5a382429",
   "metadata": {},
   "outputs": [
    {
     "data": {
      "text/plain": [
       "array([46.32202334, 46.31235398, 46.38829143, 46.65319895, 46.66045097,\n",
       "       46.58309609, 46.51541056, 46.70154576, 46.55892268, 46.57584406])"
      ]
     },
     "execution_count": 32,
     "metadata": {},
     "output_type": "execute_result"
    }
   ],
   "source": [
    "gravy_test = np.array(x_test['gravy']).reshape(-1, 1)\n",
    "y_pred_gravy = gravy_model.predict(gravy_test)\n",
    "y_pred_gravy[:10]"
   ]
  },
  {
   "cell_type": "code",
   "execution_count": 33,
   "id": "b58e8240",
   "metadata": {},
   "outputs": [
    {
     "name": "stdout",
     "output_type": "stream",
     "text": [
      "mae:  25.770283069250468 mse:  714.0990208814895\n"
     ]
    }
   ],
   "source": [
    "mae2 = mean_absolute_error(y_pred_gravy, y_test)\n",
    "mse2 = mean_squared_error(y_pred_gravy, y_test)\n",
    "print(\"mae: \", mae2, \"mse: \", mse2)"
   ]
  },
  {
   "cell_type": "code",
   "execution_count": 34,
   "id": "d056a053",
   "metadata": {},
   "outputs": [],
   "source": [
    "# CHARGE ---------->"
   ]
  },
  {
   "cell_type": "code",
   "execution_count": 35,
   "id": "d0420400",
   "metadata": {},
   "outputs": [],
   "source": [
    "charge_val = np.array(data['charge']).reshape(-1, 1)"
   ]
  },
  {
   "cell_type": "code",
   "execution_count": 36,
   "id": "e69614e6",
   "metadata": {},
   "outputs": [
    {
     "data": {
      "text/html": [
       "<style>#sk-container-id-3 {color: black;}#sk-container-id-3 pre{padding: 0;}#sk-container-id-3 div.sk-toggleable {background-color: white;}#sk-container-id-3 label.sk-toggleable__label {cursor: pointer;display: block;width: 100%;margin-bottom: 0;padding: 0.3em;box-sizing: border-box;text-align: center;}#sk-container-id-3 label.sk-toggleable__label-arrow:before {content: \"▸\";float: left;margin-right: 0.25em;color: #696969;}#sk-container-id-3 label.sk-toggleable__label-arrow:hover:before {color: black;}#sk-container-id-3 div.sk-estimator:hover label.sk-toggleable__label-arrow:before {color: black;}#sk-container-id-3 div.sk-toggleable__content {max-height: 0;max-width: 0;overflow: hidden;text-align: left;background-color: #f0f8ff;}#sk-container-id-3 div.sk-toggleable__content pre {margin: 0.2em;color: black;border-radius: 0.25em;background-color: #f0f8ff;}#sk-container-id-3 input.sk-toggleable__control:checked~div.sk-toggleable__content {max-height: 200px;max-width: 100%;overflow: auto;}#sk-container-id-3 input.sk-toggleable__control:checked~label.sk-toggleable__label-arrow:before {content: \"▾\";}#sk-container-id-3 div.sk-estimator input.sk-toggleable__control:checked~label.sk-toggleable__label {background-color: #d4ebff;}#sk-container-id-3 div.sk-label input.sk-toggleable__control:checked~label.sk-toggleable__label {background-color: #d4ebff;}#sk-container-id-3 input.sk-hidden--visually {border: 0;clip: rect(1px 1px 1px 1px);clip: rect(1px, 1px, 1px, 1px);height: 1px;margin: -1px;overflow: hidden;padding: 0;position: absolute;width: 1px;}#sk-container-id-3 div.sk-estimator {font-family: monospace;background-color: #f0f8ff;border: 1px dotted black;border-radius: 0.25em;box-sizing: border-box;margin-bottom: 0.5em;}#sk-container-id-3 div.sk-estimator:hover {background-color: #d4ebff;}#sk-container-id-3 div.sk-parallel-item::after {content: \"\";width: 100%;border-bottom: 1px solid gray;flex-grow: 1;}#sk-container-id-3 div.sk-label:hover label.sk-toggleable__label {background-color: #d4ebff;}#sk-container-id-3 div.sk-serial::before {content: \"\";position: absolute;border-left: 1px solid gray;box-sizing: border-box;top: 0;bottom: 0;left: 50%;z-index: 0;}#sk-container-id-3 div.sk-serial {display: flex;flex-direction: column;align-items: center;background-color: white;padding-right: 0.2em;padding-left: 0.2em;position: relative;}#sk-container-id-3 div.sk-item {position: relative;z-index: 1;}#sk-container-id-3 div.sk-parallel {display: flex;align-items: stretch;justify-content: center;background-color: white;position: relative;}#sk-container-id-3 div.sk-item::before, #sk-container-id-3 div.sk-parallel-item::before {content: \"\";position: absolute;border-left: 1px solid gray;box-sizing: border-box;top: 0;bottom: 0;left: 50%;z-index: -1;}#sk-container-id-3 div.sk-parallel-item {display: flex;flex-direction: column;z-index: 1;position: relative;background-color: white;}#sk-container-id-3 div.sk-parallel-item:first-child::after {align-self: flex-end;width: 50%;}#sk-container-id-3 div.sk-parallel-item:last-child::after {align-self: flex-start;width: 50%;}#sk-container-id-3 div.sk-parallel-item:only-child::after {width: 0;}#sk-container-id-3 div.sk-dashed-wrapped {border: 1px dashed gray;margin: 0 0.4em 0.5em 0.4em;box-sizing: border-box;padding-bottom: 0.4em;background-color: white;}#sk-container-id-3 div.sk-label label {font-family: monospace;font-weight: bold;display: inline-block;line-height: 1.2em;}#sk-container-id-3 div.sk-label-container {text-align: center;}#sk-container-id-3 div.sk-container {/* jupyter's `normalize.less` sets `[hidden] { display: none; }` but bootstrap.min.css set `[hidden] { display: none !important; }` so we also need the `!important` here to be able to override the default hidden behavior on the sphinx rendered scikit-learn.org. See: https://github.com/scikit-learn/scikit-learn/issues/21755 */display: inline-block !important;position: relative;}#sk-container-id-3 div.sk-text-repr-fallback {display: none;}</style><div id=\"sk-container-id-3\" class=\"sk-top-container\"><div class=\"sk-text-repr-fallback\"><pre>HuberRegressor(alpha=0.01, epsilon=1.85, max_iter=200, tol=0.0001)</pre><b>In a Jupyter environment, please rerun this cell to show the HTML representation or trust the notebook. <br />On GitHub, the HTML representation is unable to render, please try loading this page with nbviewer.org.</b></div><div class=\"sk-container\" hidden><div class=\"sk-item\"><div class=\"sk-estimator sk-toggleable\"><input class=\"sk-toggleable__control sk-hidden--visually\" id=\"sk-estimator-id-3\" type=\"checkbox\" checked><label for=\"sk-estimator-id-3\" class=\"sk-toggleable__label sk-toggleable__label-arrow\">HuberRegressor</label><div class=\"sk-toggleable__content\"><pre>HuberRegressor(alpha=0.01, epsilon=1.85, max_iter=200, tol=0.0001)</pre></div></div></div></div></div>"
      ],
      "text/plain": [
       "HuberRegressor(alpha=0.01, epsilon=1.85, max_iter=200, tol=0.0001)"
      ]
     },
     "execution_count": 36,
     "metadata": {},
     "output_type": "execute_result"
    }
   ],
   "source": [
    "charge_model = HuberRegressor(epsilon=1.85, max_iter=200, alpha=0.01, warm_start=False, fit_intercept=True, tol=1e-04)\n",
    "charge_model.fit(gravy_val, y)"
   ]
  },
  {
   "cell_type": "code",
   "execution_count": 37,
   "id": "3e285cea",
   "metadata": {},
   "outputs": [
    {
     "data": {
      "text/plain": [
       "array([64.11191979, 74.74216396, 69.45273639, 63.6776432 , 64.16330882,\n",
       "       64.16330882, 64.21384498, 64.16330882, 69.45273639, 68.96707077])"
      ]
     },
     "execution_count": 37,
     "metadata": {},
     "output_type": "execute_result"
    }
   ],
   "source": [
    "charge_test = np.array(x_test['charge']).reshape(-1, 1)\n",
    "y_pred_charge = gravy_model.predict(charge_test)\n",
    "y_pred_charge[:10]"
   ]
  },
  {
   "cell_type": "code",
   "execution_count": 38,
   "id": "423ea9a0",
   "metadata": {},
   "outputs": [
    {
     "name": "stdout",
     "output_type": "stream",
     "text": [
      "mae:  7.463277291366956 mse:  78.74919494897273\n"
     ]
    }
   ],
   "source": [
    "mae2 = mean_absolute_error(y_pred_charge, y_test)\n",
    "mse2 = mean_squared_error(y_pred_charge, y_test)\n",
    "print(\"mae: \", mae2, \"mse: \", mse2)"
   ]
  },
  {
   "cell_type": "code",
   "execution_count": 39,
   "id": "263d1864",
   "metadata": {},
   "outputs": [],
   "source": [
    "# AROMATICITY ---------->"
   ]
  },
  {
   "cell_type": "code",
   "execution_count": 40,
   "id": "700ca320",
   "metadata": {},
   "outputs": [],
   "source": [
    "aromaticity_val = np.array(data['aromaticity']).reshape(-1, 1)"
   ]
  },
  {
   "cell_type": "code",
   "execution_count": 41,
   "id": "f72f1229",
   "metadata": {},
   "outputs": [
    {
     "data": {
      "text/html": [
       "<style>#sk-container-id-4 {color: black;}#sk-container-id-4 pre{padding: 0;}#sk-container-id-4 div.sk-toggleable {background-color: white;}#sk-container-id-4 label.sk-toggleable__label {cursor: pointer;display: block;width: 100%;margin-bottom: 0;padding: 0.3em;box-sizing: border-box;text-align: center;}#sk-container-id-4 label.sk-toggleable__label-arrow:before {content: \"▸\";float: left;margin-right: 0.25em;color: #696969;}#sk-container-id-4 label.sk-toggleable__label-arrow:hover:before {color: black;}#sk-container-id-4 div.sk-estimator:hover label.sk-toggleable__label-arrow:before {color: black;}#sk-container-id-4 div.sk-toggleable__content {max-height: 0;max-width: 0;overflow: hidden;text-align: left;background-color: #f0f8ff;}#sk-container-id-4 div.sk-toggleable__content pre {margin: 0.2em;color: black;border-radius: 0.25em;background-color: #f0f8ff;}#sk-container-id-4 input.sk-toggleable__control:checked~div.sk-toggleable__content {max-height: 200px;max-width: 100%;overflow: auto;}#sk-container-id-4 input.sk-toggleable__control:checked~label.sk-toggleable__label-arrow:before {content: \"▾\";}#sk-container-id-4 div.sk-estimator input.sk-toggleable__control:checked~label.sk-toggleable__label {background-color: #d4ebff;}#sk-container-id-4 div.sk-label input.sk-toggleable__control:checked~label.sk-toggleable__label {background-color: #d4ebff;}#sk-container-id-4 input.sk-hidden--visually {border: 0;clip: rect(1px 1px 1px 1px);clip: rect(1px, 1px, 1px, 1px);height: 1px;margin: -1px;overflow: hidden;padding: 0;position: absolute;width: 1px;}#sk-container-id-4 div.sk-estimator {font-family: monospace;background-color: #f0f8ff;border: 1px dotted black;border-radius: 0.25em;box-sizing: border-box;margin-bottom: 0.5em;}#sk-container-id-4 div.sk-estimator:hover {background-color: #d4ebff;}#sk-container-id-4 div.sk-parallel-item::after {content: \"\";width: 100%;border-bottom: 1px solid gray;flex-grow: 1;}#sk-container-id-4 div.sk-label:hover label.sk-toggleable__label {background-color: #d4ebff;}#sk-container-id-4 div.sk-serial::before {content: \"\";position: absolute;border-left: 1px solid gray;box-sizing: border-box;top: 0;bottom: 0;left: 50%;z-index: 0;}#sk-container-id-4 div.sk-serial {display: flex;flex-direction: column;align-items: center;background-color: white;padding-right: 0.2em;padding-left: 0.2em;position: relative;}#sk-container-id-4 div.sk-item {position: relative;z-index: 1;}#sk-container-id-4 div.sk-parallel {display: flex;align-items: stretch;justify-content: center;background-color: white;position: relative;}#sk-container-id-4 div.sk-item::before, #sk-container-id-4 div.sk-parallel-item::before {content: \"\";position: absolute;border-left: 1px solid gray;box-sizing: border-box;top: 0;bottom: 0;left: 50%;z-index: -1;}#sk-container-id-4 div.sk-parallel-item {display: flex;flex-direction: column;z-index: 1;position: relative;background-color: white;}#sk-container-id-4 div.sk-parallel-item:first-child::after {align-self: flex-end;width: 50%;}#sk-container-id-4 div.sk-parallel-item:last-child::after {align-self: flex-start;width: 50%;}#sk-container-id-4 div.sk-parallel-item:only-child::after {width: 0;}#sk-container-id-4 div.sk-dashed-wrapped {border: 1px dashed gray;margin: 0 0.4em 0.5em 0.4em;box-sizing: border-box;padding-bottom: 0.4em;background-color: white;}#sk-container-id-4 div.sk-label label {font-family: monospace;font-weight: bold;display: inline-block;line-height: 1.2em;}#sk-container-id-4 div.sk-label-container {text-align: center;}#sk-container-id-4 div.sk-container {/* jupyter's `normalize.less` sets `[hidden] { display: none; }` but bootstrap.min.css set `[hidden] { display: none !important; }` so we also need the `!important` here to be able to override the default hidden behavior on the sphinx rendered scikit-learn.org. See: https://github.com/scikit-learn/scikit-learn/issues/21755 */display: inline-block !important;position: relative;}#sk-container-id-4 div.sk-text-repr-fallback {display: none;}</style><div id=\"sk-container-id-4\" class=\"sk-top-container\"><div class=\"sk-text-repr-fallback\"><pre>HuberRegressor(alpha=0.01, epsilon=1.85, max_iter=200, tol=0.0001)</pre><b>In a Jupyter environment, please rerun this cell to show the HTML representation or trust the notebook. <br />On GitHub, the HTML representation is unable to render, please try loading this page with nbviewer.org.</b></div><div class=\"sk-container\" hidden><div class=\"sk-item\"><div class=\"sk-estimator sk-toggleable\"><input class=\"sk-toggleable__control sk-hidden--visually\" id=\"sk-estimator-id-4\" type=\"checkbox\" checked><label for=\"sk-estimator-id-4\" class=\"sk-toggleable__label sk-toggleable__label-arrow\">HuberRegressor</label><div class=\"sk-toggleable__content\"><pre>HuberRegressor(alpha=0.01, epsilon=1.85, max_iter=200, tol=0.0001)</pre></div></div></div></div></div>"
      ],
      "text/plain": [
       "HuberRegressor(alpha=0.01, epsilon=1.85, max_iter=200, tol=0.0001)"
      ]
     },
     "execution_count": 41,
     "metadata": {},
     "output_type": "execute_result"
    }
   ],
   "source": [
    "aromaticity_model = HuberRegressor(epsilon=1.85, max_iter=200, alpha=0.01, warm_start=False, fit_intercept=True, tol=1e-04)\n",
    "aromaticity_model.fit(aromaticity_val, y)"
   ]
  },
  {
   "cell_type": "code",
   "execution_count": 42,
   "id": "6797cd04",
   "metadata": {},
   "outputs": [
    {
     "data": {
      "text/plain": [
       "array([50.97298589, 50.97298589, 50.97540323, 50.97298589, 50.99715929,\n",
       "       50.97298589, 50.97298589, 50.97298589, 50.97298589, 50.97298589])"
      ]
     },
     "execution_count": 42,
     "metadata": {},
     "output_type": "execute_result"
    }
   ],
   "source": [
    "aromaticity_test = np.array(x_test['aromaticity']).reshape(-1, 1)\n",
    "y_pred_aromaticity = gravy_model.predict(aromaticity_test)\n",
    "y_pred_aromaticity[:10]"
   ]
  },
  {
   "cell_type": "code",
   "execution_count": 43,
   "id": "a8cfa9c2",
   "metadata": {},
   "outputs": [
    {
     "name": "stdout",
     "output_type": "stream",
     "text": [
      "mae:  21.381038356485266 mse:  505.1954165617328\n"
     ]
    }
   ],
   "source": [
    "mae2 = mean_absolute_error(y_pred_aromaticity, y_test)\n",
    "mse2 = mean_squared_error(y_pred_aromaticity, y_test)\n",
    "print(\"mae: \", mae2, \"mse: \", mse2)"
   ]
  },
  {
   "cell_type": "code",
   "execution_count": 44,
   "id": "29656e72",
   "metadata": {},
   "outputs": [
    {
     "data": {
      "text/plain": [
       "Text(0.5, 1.0, 'tm VS length')"
      ]
     },
     "execution_count": 44,
     "metadata": {},
     "output_type": "execute_result"
    },
    {
     "data": {
      "image/png": "[encoded data removed]",
      "text/plain": [
       "<Figure size 640x480 with 1 Axes>"
      ]
     },
     "metadata": {},
     "output_type": "display_data"
    }
   ],
   "source": [
    "# Plotting the relation between len and tm\n",
    "length = data['length']\n",
    "plt.scatter(length, tm)\n",
    "plt.xlabel('length values')\n",
    "plt.ylabel('tm values')\n",
    "plt.title('tm VS length')"
   ]
  },
  {
   "cell_type": "code",
   "execution_count": 45,
   "id": "59d3c224",
   "metadata": {},
   "outputs": [
    {
     "data": {
      "text/html": [
       "<div>\n",
       "<style scoped>\n",
       "    .dataframe tbody tr th:only-of-type {\n",
       "        vertical-align: middle;\n",
       "    }\n",
       "\n",
       "    .dataframe tbody tr th {\n",
       "        vertical-align: top;\n",
       "    }\n",
       "\n",
       "    .dataframe thead th {\n",
       "        text-align: right;\n",
       "    }\n",
       "</style>\n",
       "<table border=\"1\" class=\"dataframe\">\n",
       "  <thead>\n",
       "    <tr style=\"text-align: right;\">\n",
       "      <th></th>\n",
       "      <th>count</th>\n",
       "      <th>mean</th>\n",
       "      <th>std</th>\n",
       "      <th>min</th>\n",
       "      <th>25%</th>\n",
       "      <th>50%</th>\n",
       "      <th>75%</th>\n",
       "      <th>max</th>\n",
       "    </tr>\n",
       "  </thead>\n",
       "  <tbody>\n",
       "    <tr>\n",
       "      <th>seq_id</th>\n",
       "      <td>31075.0</td>\n",
       "      <td>15609.536444</td>\n",
       "      <td>9035.340077</td>\n",
       "      <td>0.000000</td>\n",
       "      <td>7798.500000</td>\n",
       "      <td>15574.000000</td>\n",
       "      <td>23358.500000</td>\n",
       "      <td>3.138900e+04</td>\n",
       "    </tr>\n",
       "    <tr>\n",
       "      <th>pH</th>\n",
       "      <td>31075.0</td>\n",
       "      <td>6.850945</td>\n",
       "      <td>0.859904</td>\n",
       "      <td>1.990000</td>\n",
       "      <td>7.000000</td>\n",
       "      <td>7.000000</td>\n",
       "      <td>7.000000</td>\n",
       "      <td>1.100000e+01</td>\n",
       "    </tr>\n",
       "    <tr>\n",
       "      <th>tm</th>\n",
       "      <td>31075.0</td>\n",
       "      <td>49.191688</td>\n",
       "      <td>13.986443</td>\n",
       "      <td>-1.000000</td>\n",
       "      <td>42.100000</td>\n",
       "      <td>48.100000</td>\n",
       "      <td>53.800000</td>\n",
       "      <td>1.300000e+02</td>\n",
       "    </tr>\n",
       "    <tr>\n",
       "      <th>Q</th>\n",
       "      <td>31075.0</td>\n",
       "      <td>0.040738</td>\n",
       "      <td>0.018828</td>\n",
       "      <td>0.000000</td>\n",
       "      <td>0.029361</td>\n",
       "      <td>0.038462</td>\n",
       "      <td>0.050279</td>\n",
       "      <td>2.434641e-01</td>\n",
       "    </tr>\n",
       "    <tr>\n",
       "      <th>I</th>\n",
       "      <td>31075.0</td>\n",
       "      <td>0.054596</td>\n",
       "      <td>0.021760</td>\n",
       "      <td>0.000000</td>\n",
       "      <td>0.041002</td>\n",
       "      <td>0.053435</td>\n",
       "      <td>0.067073</td>\n",
       "      <td>2.290503e-01</td>\n",
       "    </tr>\n",
       "    <tr>\n",
       "      <th>N</th>\n",
       "      <td>31075.0</td>\n",
       "      <td>0.042674</td>\n",
       "      <td>0.018502</td>\n",
       "      <td>0.000000</td>\n",
       "      <td>0.030568</td>\n",
       "      <td>0.041131</td>\n",
       "      <td>0.052834</td>\n",
       "      <td>3.198992e-01</td>\n",
       "    </tr>\n",
       "    <tr>\n",
       "      <th>L</th>\n",
       "      <td>31075.0</td>\n",
       "      <td>0.093320</td>\n",
       "      <td>0.026775</td>\n",
       "      <td>0.000000</td>\n",
       "      <td>0.076923</td>\n",
       "      <td>0.091408</td>\n",
       "      <td>0.106987</td>\n",
       "      <td>2.815013e-01</td>\n",
       "    </tr>\n",
       "    <tr>\n",
       "      <th>A</th>\n",
       "      <td>31075.0</td>\n",
       "      <td>0.079030</td>\n",
       "      <td>0.028245</td>\n",
       "      <td>0.000000</td>\n",
       "      <td>0.059172</td>\n",
       "      <td>0.076419</td>\n",
       "      <td>0.094412</td>\n",
       "      <td>2.986577e-01</td>\n",
       "    </tr>\n",
       "    <tr>\n",
       "      <th>G</th>\n",
       "      <td>31075.0</td>\n",
       "      <td>0.069663</td>\n",
       "      <td>0.025325</td>\n",
       "      <td>0.000000</td>\n",
       "      <td>0.053571</td>\n",
       "      <td>0.066841</td>\n",
       "      <td>0.083333</td>\n",
       "      <td>6.091954e-01</td>\n",
       "    </tr>\n",
       "    <tr>\n",
       "      <th>E</th>\n",
       "      <td>31075.0</td>\n",
       "      <td>0.070426</td>\n",
       "      <td>0.025174</td>\n",
       "      <td>0.000000</td>\n",
       "      <td>0.054645</td>\n",
       "      <td>0.068460</td>\n",
       "      <td>0.083871</td>\n",
       "      <td>2.465753e-01</td>\n",
       "    </tr>\n",
       "    <tr>\n",
       "      <th>F</th>\n",
       "      <td>31075.0</td>\n",
       "      <td>0.037698</td>\n",
       "      <td>0.014941</td>\n",
       "      <td>0.000000</td>\n",
       "      <td>0.028653</td>\n",
       "      <td>0.036247</td>\n",
       "      <td>0.045685</td>\n",
       "      <td>1.549296e-01</td>\n",
       "    </tr>\n",
       "    <tr>\n",
       "      <th>Y</th>\n",
       "      <td>31075.0</td>\n",
       "      <td>0.031385</td>\n",
       "      <td>0.014272</td>\n",
       "      <td>0.000000</td>\n",
       "      <td>0.021569</td>\n",
       "      <td>0.030303</td>\n",
       "      <td>0.039698</td>\n",
       "      <td>1.231803e-01</td>\n",
       "    </tr>\n",
       "    <tr>\n",
       "      <th>W</th>\n",
       "      <td>31075.0</td>\n",
       "      <td>0.011748</td>\n",
       "      <td>0.009174</td>\n",
       "      <td>0.000000</td>\n",
       "      <td>0.005017</td>\n",
       "      <td>0.009845</td>\n",
       "      <td>0.016822</td>\n",
       "      <td>8.045977e-02</td>\n",
       "    </tr>\n",
       "    <tr>\n",
       "      <th>P</th>\n",
       "      <td>31075.0</td>\n",
       "      <td>0.046480</td>\n",
       "      <td>0.021869</td>\n",
       "      <td>0.000000</td>\n",
       "      <td>0.032258</td>\n",
       "      <td>0.044444</td>\n",
       "      <td>0.057159</td>\n",
       "      <td>2.694611e-01</td>\n",
       "    </tr>\n",
       "    <tr>\n",
       "      <th>T</th>\n",
       "      <td>31075.0</td>\n",
       "      <td>0.053201</td>\n",
       "      <td>0.017560</td>\n",
       "      <td>0.000000</td>\n",
       "      <td>0.041667</td>\n",
       "      <td>0.052305</td>\n",
       "      <td>0.063725</td>\n",
       "      <td>2.561983e-01</td>\n",
       "    </tr>\n",
       "    <tr>\n",
       "      <th>C</th>\n",
       "      <td>31075.0</td>\n",
       "      <td>0.014717</td>\n",
       "      <td>0.013424</td>\n",
       "      <td>0.000000</td>\n",
       "      <td>0.006369</td>\n",
       "      <td>0.012195</td>\n",
       "      <td>0.019355</td>\n",
       "      <td>1.607143e-01</td>\n",
       "    </tr>\n",
       "    <tr>\n",
       "      <th>H</th>\n",
       "      <td>31075.0</td>\n",
       "      <td>0.021632</td>\n",
       "      <td>0.011512</td>\n",
       "      <td>0.000000</td>\n",
       "      <td>0.014025</td>\n",
       "      <td>0.020833</td>\n",
       "      <td>0.028169</td>\n",
       "      <td>1.463415e-01</td>\n",
       "    </tr>\n",
       "    <tr>\n",
       "      <th>K</th>\n",
       "      <td>31075.0</td>\n",
       "      <td>0.065394</td>\n",
       "      <td>0.027529</td>\n",
       "      <td>0.000000</td>\n",
       "      <td>0.046512</td>\n",
       "      <td>0.063025</td>\n",
       "      <td>0.079518</td>\n",
       "      <td>2.904564e-01</td>\n",
       "    </tr>\n",
       "    <tr>\n",
       "      <th>R</th>\n",
       "      <td>31075.0</td>\n",
       "      <td>0.053775</td>\n",
       "      <td>0.022543</td>\n",
       "      <td>0.000000</td>\n",
       "      <td>0.039024</td>\n",
       "      <td>0.051672</td>\n",
       "      <td>0.065640</td>\n",
       "      <td>2.453988e-01</td>\n",
       "    </tr>\n",
       "    <tr>\n",
       "      <th>D</th>\n",
       "      <td>31075.0</td>\n",
       "      <td>0.055348</td>\n",
       "      <td>0.017854</td>\n",
       "      <td>0.000000</td>\n",
       "      <td>0.043636</td>\n",
       "      <td>0.054415</td>\n",
       "      <td>0.064972</td>\n",
       "      <td>2.052980e-01</td>\n",
       "    </tr>\n",
       "    <tr>\n",
       "      <th>S</th>\n",
       "      <td>31075.0</td>\n",
       "      <td>0.066796</td>\n",
       "      <td>0.025350</td>\n",
       "      <td>0.000000</td>\n",
       "      <td>0.048481</td>\n",
       "      <td>0.064706</td>\n",
       "      <td>0.082251</td>\n",
       "      <td>3.571429e-01</td>\n",
       "    </tr>\n",
       "    <tr>\n",
       "      <th>V</th>\n",
       "      <td>31075.0</td>\n",
       "      <td>0.066969</td>\n",
       "      <td>0.020305</td>\n",
       "      <td>0.000000</td>\n",
       "      <td>0.054004</td>\n",
       "      <td>0.065543</td>\n",
       "      <td>0.078545</td>\n",
       "      <td>2.857143e-01</td>\n",
       "    </tr>\n",
       "    <tr>\n",
       "      <th>M</th>\n",
       "      <td>31075.0</td>\n",
       "      <td>0.024411</td>\n",
       "      <td>0.011046</td>\n",
       "      <td>0.000000</td>\n",
       "      <td>0.017143</td>\n",
       "      <td>0.023697</td>\n",
       "      <td>0.030488</td>\n",
       "      <td>1.410256e-01</td>\n",
       "    </tr>\n",
       "    <tr>\n",
       "      <th>aromaticity</th>\n",
       "      <td>31075.0</td>\n",
       "      <td>0.080832</td>\n",
       "      <td>0.024961</td>\n",
       "      <td>0.000000</td>\n",
       "      <td>0.064325</td>\n",
       "      <td>0.080460</td>\n",
       "      <td>0.095109</td>\n",
       "      <td>2.278481e-01</td>\n",
       "    </tr>\n",
       "    <tr>\n",
       "      <th>isoelectric_point</th>\n",
       "      <td>31075.0</td>\n",
       "      <td>6.826479</td>\n",
       "      <td>1.739838</td>\n",
       "      <td>4.050028</td>\n",
       "      <td>5.411749</td>\n",
       "      <td>6.204965</td>\n",
       "      <td>8.610542</td>\n",
       "      <td>1.199997e+01</td>\n",
       "    </tr>\n",
       "    <tr>\n",
       "      <th>molecular_weight</th>\n",
       "      <td>31075.0</td>\n",
       "      <td>50098.814811</td>\n",
       "      <td>71638.009271</td>\n",
       "      <td>528.602400</td>\n",
       "      <td>22025.385400</td>\n",
       "      <td>37419.166800</td>\n",
       "      <td>58674.401850</td>\n",
       "      <td>3.637287e+06</td>\n",
       "    </tr>\n",
       "    <tr>\n",
       "      <th>charge</th>\n",
       "      <td>31075.0</td>\n",
       "      <td>-3.932762</td>\n",
       "      <td>21.251684</td>\n",
       "      <td>-904.904039</td>\n",
       "      <td>-9.887273</td>\n",
       "      <td>-3.097930</td>\n",
       "      <td>3.876581</td>\n",
       "      <td>4.153728e+02</td>\n",
       "    </tr>\n",
       "    <tr>\n",
       "      <th>gravy</th>\n",
       "      <td>31075.0</td>\n",
       "      <td>-0.330133</td>\n",
       "      <td>0.312147</td>\n",
       "      <td>-1.975779</td>\n",
       "      <td>-0.491244</td>\n",
       "      <td>-0.320710</td>\n",
       "      <td>-0.163218</td>\n",
       "      <td>1.771429e+00</td>\n",
       "    </tr>\n",
       "    <tr>\n",
       "      <th>length</th>\n",
       "      <td>31075.0</td>\n",
       "      <td>449.126629</td>\n",
       "      <td>643.688869</td>\n",
       "      <td>5.000000</td>\n",
       "      <td>196.000000</td>\n",
       "      <td>336.000000</td>\n",
       "      <td>526.000000</td>\n",
       "      <td>3.276700e+04</td>\n",
       "    </tr>\n",
       "  </tbody>\n",
       "</table>\n",
       "</div>"
      ],
      "text/plain": [
       "                     count          mean           std         min  \\\n",
       "seq_id             31075.0  15609.536444   9035.340077    0.000000   \n",
       "pH                 31075.0      6.850945      0.859904    1.990000   \n",
       "tm                 31075.0     49.191688     13.986443   -1.000000   \n",
       "Q                  31075.0      0.040738      0.018828    0.000000   \n",
       "I                  31075.0      0.054596      0.021760    0.000000   \n",
       "N                  31075.0      0.042674      0.018502    0.000000   \n",
       "L                  31075.0      0.093320      0.026775    0.000000   \n",
       "A                  31075.0      0.079030      0.028245    0.000000   \n",
       "G                  31075.0      0.069663      0.025325    0.000000   \n",
       "E                  31075.0      0.070426      0.025174    0.000000   \n",
       "F                  31075.0      0.037698      0.014941    0.000000   \n",
       "Y                  31075.0      0.031385      0.014272    0.000000   \n",
       "W                  31075.0      0.011748      0.009174    0.000000   \n",
       "P                  31075.0      0.046480      0.021869    0.000000   \n",
       "T                  31075.0      0.053201      0.017560    0.000000   \n",
       "C                  31075.0      0.014717      0.013424    0.000000   \n",
       "H                  31075.0      0.021632      0.011512    0.000000   \n",
       "K                  31075.0      0.065394      0.027529    0.000000   \n",
       "R                  31075.0      0.053775      0.022543    0.000000   \n",
       "D                  31075.0      0.055348      0.017854    0.000000   \n",
       "S                  31075.0      0.066796      0.025350    0.000000   \n",
       "V                  31075.0      0.066969      0.020305    0.000000   \n",
       "M                  31075.0      0.024411      0.011046    0.000000   \n",
       "aromaticity        31075.0      0.080832      0.024961    0.000000   \n",
       "isoelectric_point  31075.0      6.826479      1.739838    4.050028   \n",
       "molecular_weight   31075.0  50098.814811  71638.009271  528.602400   \n",
       "charge             31075.0     -3.932762     21.251684 -904.904039   \n",
       "gravy              31075.0     -0.330133      0.312147   -1.975779   \n",
       "length             31075.0    449.126629    643.688869    5.000000   \n",
       "\n",
       "                            25%           50%           75%           max  \n",
       "seq_id              7798.500000  15574.000000  23358.500000  3.138900e+04  \n",
       "pH                     7.000000      7.000000      7.000000  1.100000e+01  \n",
       "tm                    42.100000     48.100000     53.800000  1.300000e+02  \n",
       "Q                      0.029361      0.038462      0.050279  2.434641e-01  \n",
       "I                      0.041002      0.053435      0.067073  2.290503e-01  \n",
       "N                      0.030568      0.041131      0.052834  3.198992e-01  \n",
       "L                      0.076923      0.091408      0.106987  2.815013e-01  \n",
       "A                      0.059172      0.076419      0.094412  2.986577e-01  \n",
       "G                      0.053571      0.066841      0.083333  6.091954e-01  \n",
       "E                      0.054645      0.068460      0.083871  2.465753e-01  \n",
       "F                      0.028653      0.036247      0.045685  1.549296e-01  \n",
       "Y                      0.021569      0.030303      0.039698  1.231803e-01  \n",
       "W                      0.005017      0.009845      0.016822  8.045977e-02  \n",
       "P                      0.032258      0.044444      0.057159  2.694611e-01  \n",
       "T                      0.041667      0.052305      0.063725  2.561983e-01  \n",
       "C                      0.006369      0.012195      0.019355  1.607143e-01  \n",
       "H                      0.014025      0.020833      0.028169  1.463415e-01  \n",
       "K                      0.046512      0.063025      0.079518  2.904564e-01  \n",
       "R                      0.039024      0.051672      0.065640  2.453988e-01  \n",
       "D                      0.043636      0.054415      0.064972  2.052980e-01  \n",
       "S                      0.048481      0.064706      0.082251  3.571429e-01  \n",
       "V                      0.054004      0.065543      0.078545  2.857143e-01  \n",
       "M                      0.017143      0.023697      0.030488  1.410256e-01  \n",
       "aromaticity            0.064325      0.080460      0.095109  2.278481e-01  \n",
       "isoelectric_point      5.411749      6.204965      8.610542  1.199997e+01  \n",
       "molecular_weight   22025.385400  37419.166800  58674.401850  3.637287e+06  \n",
       "charge                -9.887273     -3.097930      3.876581  4.153728e+02  \n",
       "gravy                 -0.491244     -0.320710     -0.163218  1.771429e+00  \n",
       "length               196.000000    336.000000    526.000000  3.276700e+04  "
      ]
     },
     "execution_count": 45,
     "metadata": {},
     "output_type": "execute_result"
    }
   ],
   "source": [
    "data.describe().T"
   ]
  },
  {
   "cell_type": "code",
   "execution_count": null,
   "id": "2e7d298e",
   "metadata": {},
   "outputs": [],
   "source": []
  }
 ],
 "metadata": {
  "kernelspec": {
   "display_name": "Python 3 (ipykernel)",
   "language": "python",
   "name": "python3"
  },
  "language_info": {
   "codemirror_mode": {
    "name": "ipython",
    "version": 3
   },
   "file_extension": ".py",
   "mimetype": "text/x-python",
   "name": "python",
   "nbconvert_exporter": "python",
   "pygments_lexer": "ipython3",
   "version": "3.10.9"
  }
 },
 "nbformat": 4,
 "nbformat_minor": 5
}
